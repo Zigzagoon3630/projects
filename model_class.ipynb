{
 "cells": [
  {
   "cell_type": "code",
   "execution_count": 1,
   "metadata": {},
   "outputs": [],
   "source": [
    "#проект направлен на создание классификационной модели для определения состояния жд трансформаторов по значениям, полученных с датчиков\n",
    "import math\n",
    "import numpy as np\n",
    "import pandas as pd\n",
    "import seaborn as sns\n",
    "import matplotlib.pyplot as plt\n",
    "import datetime as dt\n",
    "#import statsmodels.api as sm\n",
    "import plotly.express as px\n",
    "#import missingno as msno \n",
    "import lazypredict\n",
    "import random as rd\n",
    "from sklearn.preprocessing import StandardScaler,LabelEncoder\n",
    "from sklearn.utils import shuffle\n",
    "from sklearn.svm import LinearSVR\n",
    "from sklearn.ensemble import AdaBoostRegressor\n",
    "from sklearn.tree import DecisionTreeRegressor\n",
    "from sklearn.datasets import make_regression\n",
    "from sklearn.metrics import mean_squared_error, mean_absolute_error\n",
    "from sklearn.model_selection import train_test_split, cross_val_score\n",
    "from sklearn.model_selection import KFold, GridSearchCV\n",
    "\n",
    "from lazypredict.Supervised import LazyRegressor\n",
    "from lazypredict.Supervised import LazyClassifier\n",
    "from sklearn.ensemble import RandomForestClassifier\n",
    "import warnings\n",
    "warnings.filterwarnings('ignore')\n",
    "from lightgbm import LGBMClassifier\n",
    "from sklearn.metrics import accuracy_score\n",
    "sns.set_style('darkgrid')\n",
    "%matplotlib inline\n",
    "from sklearn import tree"
   ]
  },
  {
   "attachments": {},
   "cell_type": "markdown",
   "metadata": {},
   "source": [
    "Предобработка"
   ]
  },
  {
   "cell_type": "code",
   "execution_count": 2,
   "metadata": {},
   "outputs": [
    {
     "data": {
      "text/plain": [
       "<bound method NDFrame.head of      Hydrogen  Oxigen  Nitrogen  Methane   CO   CO2  Ethylene  Ethane  \\\n",
       "0        2845    5860     27842     7406   32  1344     16684    5467   \n",
       "1       12886      61     25041      877   83   864         4     305   \n",
       "2        2820   16400     56300      144  257  1080       206      11   \n",
       "3        1099      70     37520      545  184  1402         6     230   \n",
       "4        3210    3570     47900      160  360  2130         4      43   \n",
       "..        ...     ...       ...      ...  ...   ...       ...     ...   \n",
       "465        15     227     52900        3   60   853         3      84   \n",
       "466        15     334     47100        3   64   622         3     108   \n",
       "467        15    1280     35000        2  675  2530         0       0   \n",
       "468        15     169     50600        5   77   532         0      72   \n",
       "469        15     308     39700        3   64   581         5      27   \n",
       "\n",
       "     Acethylene  DBDS  Power factor  Interfacial V  Dielectric rigidity  \\\n",
       "0             7 19.00          1.00             45                   55   \n",
       "1             0 45.00          1.00             45                   55   \n",
       "2          2190  1.00          1.00             39                   52   \n",
       "3             0 87.00          4.58             33                   49   \n",
       "4             4  1.00          0.77             44                   55   \n",
       "..          ...   ...           ...            ...                  ...   \n",
       "465           0  0.00          1.00             32                   56   \n",
       "466           0  0.00          1.00             32                   55   \n",
       "467           0  5.00          0.30             45                   58   \n",
       "468           0  0.00          1.21             33                   54   \n",
       "469           0  0.00          1.00             32                   60   \n",
       "\n",
       "     Water content  Health index  \n",
       "0                0         95.20  \n",
       "1                0         85.50  \n",
       "2               11         85.30  \n",
       "3                5         85.30  \n",
       "4                3         85.20  \n",
       "..             ...           ...  \n",
       "465             28         13.40  \n",
       "466             12         13.40  \n",
       "467              8         13.40  \n",
       "468             11         13.40  \n",
       "469             18         13.40  \n",
       "\n",
       "[470 rows x 15 columns]>"
      ]
     },
     "execution_count": 2,
     "metadata": {},
     "output_type": "execute_result"
    }
   ],
   "source": [
    "data = pd.read_csv('Health index2.csv')\n",
    "data.head"
   ]
  },
  {
   "cell_type": "code",
   "execution_count": 3,
   "metadata": {},
   "outputs": [
    {
     "data": {
      "text/html": [
       "<style type=\"text/css\">\n",
       "#T_9b22a_row0_col0, #T_9b22a_row1_col0, #T_9b22a_row2_col0, #T_9b22a_row3_col0, #T_9b22a_row3_col3, #T_9b22a_row3_col4, #T_9b22a_row3_col5, #T_9b22a_row3_col6, #T_9b22a_row4_col0, #T_9b22a_row4_col3, #T_9b22a_row4_col4, #T_9b22a_row4_col5, #T_9b22a_row5_col0, #T_9b22a_row5_col1, #T_9b22a_row5_col3, #T_9b22a_row5_col4, #T_9b22a_row5_col5, #T_9b22a_row5_col6, #T_9b22a_row6_col0, #T_9b22a_row6_col1, #T_9b22a_row6_col3, #T_9b22a_row6_col4, #T_9b22a_row6_col5, #T_9b22a_row6_col6, #T_9b22a_row7_col0, #T_9b22a_row7_col1, #T_9b22a_row7_col3, #T_9b22a_row7_col4, #T_9b22a_row7_col5, #T_9b22a_row7_col6, #T_9b22a_row8_col0, #T_9b22a_row8_col1, #T_9b22a_row8_col3, #T_9b22a_row8_col4, #T_9b22a_row8_col5, #T_9b22a_row8_col6, #T_9b22a_row9_col0, #T_9b22a_row9_col1, #T_9b22a_row9_col2, #T_9b22a_row9_col4, #T_9b22a_row9_col5, #T_9b22a_row9_col6, #T_9b22a_row9_col7, #T_9b22a_row10_col0, #T_9b22a_row10_col1, #T_9b22a_row10_col2, #T_9b22a_row10_col4, #T_9b22a_row10_col5, #T_9b22a_row10_col6, #T_9b22a_row10_col7, #T_9b22a_row11_col0, #T_9b22a_row11_col1, #T_9b22a_row11_col2, #T_9b22a_row11_col3, #T_9b22a_row11_col4, #T_9b22a_row11_col5, #T_9b22a_row11_col6, #T_9b22a_row11_col7, #T_9b22a_row12_col0, #T_9b22a_row12_col1, #T_9b22a_row12_col2, #T_9b22a_row12_col3, #T_9b22a_row12_col4, #T_9b22a_row12_col5, #T_9b22a_row12_col6, #T_9b22a_row12_col7, #T_9b22a_row13_col0, #T_9b22a_row13_col1, #T_9b22a_row13_col2, #T_9b22a_row13_col3, #T_9b22a_row13_col4, #T_9b22a_row13_col5, #T_9b22a_row13_col6, #T_9b22a_row13_col7, #T_9b22a_row14_col0, #T_9b22a_row14_col1, #T_9b22a_row14_col2, #T_9b22a_row14_col3, #T_9b22a_row14_col4, #T_9b22a_row14_col5, #T_9b22a_row14_col6, #T_9b22a_row14_col7 {\n",
       "  background-color: #f7fcfd;\n",
       "  color: #000000;\n",
       "}\n",
       "#T_9b22a_row0_col1, #T_9b22a_row0_col3, #T_9b22a_row0_col4, #T_9b22a_row0_col5, #T_9b22a_row0_col6, #T_9b22a_row1_col2, #T_9b22a_row1_col7 {\n",
       "  background-color: #00441b;\n",
       "  color: #f1f1f1;\n",
       "}\n",
       "#T_9b22a_row0_col2 {\n",
       "  background-color: #004d1f;\n",
       "  color: #f1f1f1;\n",
       "}\n",
       "#T_9b22a_row0_col7 {\n",
       "  background-color: #a7ddd1;\n",
       "  color: #000000;\n",
       "}\n",
       "#T_9b22a_row1_col1 {\n",
       "  background-color: #dbf2f2;\n",
       "  color: #000000;\n",
       "}\n",
       "#T_9b22a_row1_col3, #T_9b22a_row4_col2 {\n",
       "  background-color: #f5fbfc;\n",
       "  color: #000000;\n",
       "}\n",
       "#T_9b22a_row1_col4, #T_9b22a_row2_col3, #T_9b22a_row2_col4 {\n",
       "  background-color: #f5fbfd;\n",
       "  color: #000000;\n",
       "}\n",
       "#T_9b22a_row1_col5 {\n",
       "  background-color: #ecf8fb;\n",
       "  color: #000000;\n",
       "}\n",
       "#T_9b22a_row1_col6 {\n",
       "  background-color: #c5e9e2;\n",
       "  color: #000000;\n",
       "}\n",
       "#T_9b22a_row2_col1, #T_9b22a_row6_col7, #T_9b22a_row8_col2 {\n",
       "  background-color: #f2fafc;\n",
       "  color: #000000;\n",
       "}\n",
       "#T_9b22a_row2_col2 {\n",
       "  background-color: #dff3f4;\n",
       "  color: #000000;\n",
       "}\n",
       "#T_9b22a_row2_col5, #T_9b22a_row7_col2, #T_9b22a_row7_col7 {\n",
       "  background-color: #f4fbfc;\n",
       "  color: #000000;\n",
       "}\n",
       "#T_9b22a_row2_col6, #T_9b22a_row6_col2 {\n",
       "  background-color: #f1fafc;\n",
       "  color: #000000;\n",
       "}\n",
       "#T_9b22a_row2_col7 {\n",
       "  background-color: #e9f7fa;\n",
       "  color: #000000;\n",
       "}\n",
       "#T_9b22a_row3_col1, #T_9b22a_row4_col1, #T_9b22a_row4_col6, #T_9b22a_row4_col7, #T_9b22a_row9_col3, #T_9b22a_row10_col3 {\n",
       "  background-color: #f6fcfd;\n",
       "  color: #000000;\n",
       "}\n",
       "#T_9b22a_row3_col2 {\n",
       "  background-color: #e2f4f7;\n",
       "  color: #000000;\n",
       "}\n",
       "#T_9b22a_row3_col7, #T_9b22a_row5_col2 {\n",
       "  background-color: #eaf7fa;\n",
       "  color: #000000;\n",
       "}\n",
       "#T_9b22a_row5_col7 {\n",
       "  background-color: #edf8fb;\n",
       "  color: #000000;\n",
       "}\n",
       "#T_9b22a_row8_col7 {\n",
       "  background-color: #f3fafc;\n",
       "  color: #000000;\n",
       "}\n",
       "</style>\n",
       "<table id=\"T_9b22a\">\n",
       "  <thead>\n",
       "    <tr>\n",
       "      <th class=\"blank level0\" >&nbsp;</th>\n",
       "      <th id=\"T_9b22a_level0_col0\" class=\"col_heading level0 col0\" >count</th>\n",
       "      <th id=\"T_9b22a_level0_col1\" class=\"col_heading level0 col1\" >mean</th>\n",
       "      <th id=\"T_9b22a_level0_col2\" class=\"col_heading level0 col2\" >std</th>\n",
       "      <th id=\"T_9b22a_level0_col3\" class=\"col_heading level0 col3\" >min</th>\n",
       "      <th id=\"T_9b22a_level0_col4\" class=\"col_heading level0 col4\" >25%</th>\n",
       "      <th id=\"T_9b22a_level0_col5\" class=\"col_heading level0 col5\" >50%</th>\n",
       "      <th id=\"T_9b22a_level0_col6\" class=\"col_heading level0 col6\" >75%</th>\n",
       "      <th id=\"T_9b22a_level0_col7\" class=\"col_heading level0 col7\" >max</th>\n",
       "    </tr>\n",
       "  </thead>\n",
       "  <tbody>\n",
       "    <tr>\n",
       "      <th id=\"T_9b22a_level0_row0\" class=\"row_heading level0 row0\" >Nitrogen</th>\n",
       "      <td id=\"T_9b22a_row0_col0\" class=\"data row0 col0\" >470.000000</td>\n",
       "      <td id=\"T_9b22a_row0_col1\" class=\"data row0 col1\" >47759.561702</td>\n",
       "      <td id=\"T_9b22a_row0_col2\" class=\"data row0 col2\" >13760.451816</td>\n",
       "      <td id=\"T_9b22a_row0_col3\" class=\"data row0 col3\" >3600.000000</td>\n",
       "      <td id=\"T_9b22a_row0_col4\" class=\"data row0 col4\" >41700.000000</td>\n",
       "      <td id=\"T_9b22a_row0_col5\" class=\"data row0 col5\" >49100.000000</td>\n",
       "      <td id=\"T_9b22a_row0_col6\" class=\"data row0 col6\" >55875.000000</td>\n",
       "      <td id=\"T_9b22a_row0_col7\" class=\"data row0 col7\" >85300.000000</td>\n",
       "    </tr>\n",
       "    <tr>\n",
       "      <th id=\"T_9b22a_level0_row1\" class=\"row_heading level0 row1\" >Oxigen</th>\n",
       "      <td id=\"T_9b22a_row1_col0\" class=\"data row1 col0\" >470.000000</td>\n",
       "      <td id=\"T_9b22a_row1_col1\" class=\"data row1 col1\" >8357.372340</td>\n",
       "      <td id=\"T_9b22a_row1_col2\" class=\"data row1 col2\" >14164.233283</td>\n",
       "      <td id=\"T_9b22a_row1_col3\" class=\"data row1 col3\" >57.000000</td>\n",
       "      <td id=\"T_9b22a_row1_col4\" class=\"data row1 col4\" >496.000000</td>\n",
       "      <td id=\"T_9b22a_row1_col5\" class=\"data row1 col5\" >3810.000000</td>\n",
       "      <td id=\"T_9b22a_row1_col6\" class=\"data row1 col6\" >14875.000000</td>\n",
       "      <td id=\"T_9b22a_row1_col7\" class=\"data row1 col7\" >249900.000000</td>\n",
       "    </tr>\n",
       "    <tr>\n",
       "      <th id=\"T_9b22a_level0_row2\" class=\"row_heading level0 row2\" >CO2</th>\n",
       "      <td id=\"T_9b22a_row2_col0\" class=\"data row2 col0\" >470.000000</td>\n",
       "      <td id=\"T_9b22a_row2_col1\" class=\"data row2 col1\" >1816.414894</td>\n",
       "      <td id=\"T_9b22a_row2_col2\" class=\"data row2 col2\" >2256.790519</td>\n",
       "      <td id=\"T_9b22a_row2_col3\" class=\"data row2 col3\" >48.000000</td>\n",
       "      <td id=\"T_9b22a_row2_col4\" class=\"data row2 col4\" >641.750000</td>\n",
       "      <td id=\"T_9b22a_row2_col5\" class=\"data row2 col5\" >1125.000000</td>\n",
       "      <td id=\"T_9b22a_row2_col6\" class=\"data row2 col6\" >2257.500000</td>\n",
       "      <td id=\"T_9b22a_row2_col7\" class=\"data row2 col7\" >24900.000000</td>\n",
       "    </tr>\n",
       "    <tr>\n",
       "      <th id=\"T_9b22a_level0_row3\" class=\"row_heading level0 row3\" >Hydrogen</th>\n",
       "      <td id=\"T_9b22a_row3_col0\" class=\"data row3 col0\" >470.000000</td>\n",
       "      <td id=\"T_9b22a_row3_col1\" class=\"data row3 col1\" >404.261702</td>\n",
       "      <td id=\"T_9b22a_row3_col2\" class=\"data row3 col2\" >2002.142678</td>\n",
       "      <td id=\"T_9b22a_row3_col3\" class=\"data row3 col3\" >0.000000</td>\n",
       "      <td id=\"T_9b22a_row3_col4\" class=\"data row3 col4\" >4.000000</td>\n",
       "      <td id=\"T_9b22a_row3_col5\" class=\"data row3 col5\" >9.000000</td>\n",
       "      <td id=\"T_9b22a_row3_col6\" class=\"data row3 col6\" >34.000000</td>\n",
       "      <td id=\"T_9b22a_row3_col7\" class=\"data row3 col7\" >23349.000000</td>\n",
       "    </tr>\n",
       "    <tr>\n",
       "      <th id=\"T_9b22a_level0_row4\" class=\"row_heading level0 row4\" >CO</th>\n",
       "      <td id=\"T_9b22a_row4_col0\" class=\"data row4 col0\" >470.000000</td>\n",
       "      <td id=\"T_9b22a_row4_col1\" class=\"data row4 col1\" >244.000000</td>\n",
       "      <td id=\"T_9b22a_row4_col2\" class=\"data row4 col2\" >237.267485</td>\n",
       "      <td id=\"T_9b22a_row4_col3\" class=\"data row4 col3\" >10.000000</td>\n",
       "      <td id=\"T_9b22a_row4_col4\" class=\"data row4 col4\" >66.000000</td>\n",
       "      <td id=\"T_9b22a_row4_col5\" class=\"data row4 col5\" >150.500000</td>\n",
       "      <td id=\"T_9b22a_row4_col6\" class=\"data row4 col6\" >361.750000</td>\n",
       "      <td id=\"T_9b22a_row4_col7\" class=\"data row4 col7\" >1730.000000</td>\n",
       "    </tr>\n",
       "    <tr>\n",
       "      <th id=\"T_9b22a_level0_row5\" class=\"row_heading level0 row5\" >Ethylene</th>\n",
       "      <td id=\"T_9b22a_row5_col0\" class=\"data row5 col0\" >470.000000</td>\n",
       "      <td id=\"T_9b22a_row5_col1\" class=\"data row5 col1\" >162.923404</td>\n",
       "      <td id=\"T_9b22a_row5_col2\" class=\"data row5 col2\" >1323.811504</td>\n",
       "      <td id=\"T_9b22a_row5_col3\" class=\"data row5 col3\" >0.000000</td>\n",
       "      <td id=\"T_9b22a_row5_col4\" class=\"data row5 col4\" >0.000000</td>\n",
       "      <td id=\"T_9b22a_row5_col5\" class=\"data row5 col5\" >3.000000</td>\n",
       "      <td id=\"T_9b22a_row5_col6\" class=\"data row5 col6\" >6.000000</td>\n",
       "      <td id=\"T_9b22a_row5_col7\" class=\"data row5 col7\" >16684.000000</td>\n",
       "    </tr>\n",
       "    <tr>\n",
       "      <th id=\"T_9b22a_level0_row6\" class=\"row_heading level0 row6\" >Acethylene</th>\n",
       "      <td id=\"T_9b22a_row6_col0\" class=\"data row6 col0\" >470.000000</td>\n",
       "      <td id=\"T_9b22a_row6_col1\" class=\"data row6 col1\" >91.491489</td>\n",
       "      <td id=\"T_9b22a_row6_col2\" class=\"data row6 col2\" >644.365828</td>\n",
       "      <td id=\"T_9b22a_row6_col3\" class=\"data row6 col3\" >0.000000</td>\n",
       "      <td id=\"T_9b22a_row6_col4\" class=\"data row6 col4\" >0.000000</td>\n",
       "      <td id=\"T_9b22a_row6_col5\" class=\"data row6 col5\" >0.000000</td>\n",
       "      <td id=\"T_9b22a_row6_col6\" class=\"data row6 col6\" >0.000000</td>\n",
       "      <td id=\"T_9b22a_row6_col7\" class=\"data row6 col7\" >9740.000000</td>\n",
       "    </tr>\n",
       "    <tr>\n",
       "      <th id=\"T_9b22a_level0_row7\" class=\"row_heading level0 row7\" >Ethane</th>\n",
       "      <td id=\"T_9b22a_row7_col0\" class=\"data row7 col0\" >470.000000</td>\n",
       "      <td id=\"T_9b22a_row7_col1\" class=\"data row7 col1\" >81.940426</td>\n",
       "      <td id=\"T_9b22a_row7_col2\" class=\"data row7 col2\" >342.573636</td>\n",
       "      <td id=\"T_9b22a_row7_col3\" class=\"data row7 col3\" >0.000000</td>\n",
       "      <td id=\"T_9b22a_row7_col4\" class=\"data row7 col4\" >0.000000</td>\n",
       "      <td id=\"T_9b22a_row7_col5\" class=\"data row7 col5\" >4.000000</td>\n",
       "      <td id=\"T_9b22a_row7_col6\" class=\"data row7 col6\" >69.750000</td>\n",
       "      <td id=\"T_9b22a_row7_col7\" class=\"data row7 col7\" >5467.000000</td>\n",
       "    </tr>\n",
       "    <tr>\n",
       "      <th id=\"T_9b22a_level0_row8\" class=\"row_heading level0 row8\" >Methane</th>\n",
       "      <td id=\"T_9b22a_row8_col0\" class=\"data row8 col0\" >470.000000</td>\n",
       "      <td id=\"T_9b22a_row8_col1\" class=\"data row8 col1\" >79.695745</td>\n",
       "      <td id=\"T_9b22a_row8_col2\" class=\"data row8 col2\" >489.320336</td>\n",
       "      <td id=\"T_9b22a_row8_col3\" class=\"data row8 col3\" >0.000000</td>\n",
       "      <td id=\"T_9b22a_row8_col4\" class=\"data row8 col4\" >2.000000</td>\n",
       "      <td id=\"T_9b22a_row8_col5\" class=\"data row8 col5\" >3.000000</td>\n",
       "      <td id=\"T_9b22a_row8_col6\" class=\"data row8 col6\" >7.000000</td>\n",
       "      <td id=\"T_9b22a_row8_col7\" class=\"data row8 col7\" >7406.000000</td>\n",
       "    </tr>\n",
       "    <tr>\n",
       "      <th id=\"T_9b22a_level0_row9\" class=\"row_heading level0 row9\" >Dielectric rigidity</th>\n",
       "      <td id=\"T_9b22a_row9_col0\" class=\"data row9 col0\" >470.000000</td>\n",
       "      <td id=\"T_9b22a_row9_col1\" class=\"data row9 col1\" >53.495745</td>\n",
       "      <td id=\"T_9b22a_row9_col2\" class=\"data row9 col2\" >6.458906</td>\n",
       "      <td id=\"T_9b22a_row9_col3\" class=\"data row9 col3\" >27.000000</td>\n",
       "      <td id=\"T_9b22a_row9_col4\" class=\"data row9 col4\" >51.000000</td>\n",
       "      <td id=\"T_9b22a_row9_col5\" class=\"data row9 col5\" >54.000000</td>\n",
       "      <td id=\"T_9b22a_row9_col6\" class=\"data row9 col6\" >56.000000</td>\n",
       "      <td id=\"T_9b22a_row9_col7\" class=\"data row9 col7\" >75.000000</td>\n",
       "    </tr>\n",
       "    <tr>\n",
       "      <th id=\"T_9b22a_level0_row10\" class=\"row_heading level0 row10\" >Interfacial V</th>\n",
       "      <td id=\"T_9b22a_row10_col0\" class=\"data row10 col0\" >470.000000</td>\n",
       "      <td id=\"T_9b22a_row10_col1\" class=\"data row10 col1\" >38.434043</td>\n",
       "      <td id=\"T_9b22a_row10_col2\" class=\"data row10 col2\" >6.178830</td>\n",
       "      <td id=\"T_9b22a_row10_col3\" class=\"data row10 col3\" >21.000000</td>\n",
       "      <td id=\"T_9b22a_row10_col4\" class=\"data row10 col4\" >32.000000</td>\n",
       "      <td id=\"T_9b22a_row10_col5\" class=\"data row10 col5\" >39.000000</td>\n",
       "      <td id=\"T_9b22a_row10_col6\" class=\"data row10 col6\" >44.000000</td>\n",
       "      <td id=\"T_9b22a_row10_col7\" class=\"data row10 col7\" >57.000000</td>\n",
       "    </tr>\n",
       "    <tr>\n",
       "      <th id=\"T_9b22a_level0_row11\" class=\"row_heading level0 row11\" >Health index</th>\n",
       "      <td id=\"T_9b22a_row11_col0\" class=\"data row11 col0\" >470.000000</td>\n",
       "      <td id=\"T_9b22a_row11_col1\" class=\"data row11 col1\" >27.504043</td>\n",
       "      <td id=\"T_9b22a_row11_col2\" class=\"data row11 col2\" >17.741458</td>\n",
       "      <td id=\"T_9b22a_row11_col3\" class=\"data row11 col3\" >13.400000</td>\n",
       "      <td id=\"T_9b22a_row11_col4\" class=\"data row11 col4\" >13.400000</td>\n",
       "      <td id=\"T_9b22a_row11_col5\" class=\"data row11 col5\" >13.400000</td>\n",
       "      <td id=\"T_9b22a_row11_col6\" class=\"data row11 col6\" >38.550000</td>\n",
       "      <td id=\"T_9b22a_row11_col7\" class=\"data row11 col7\" >95.200000</td>\n",
       "    </tr>\n",
       "    <tr>\n",
       "      <th id=\"T_9b22a_level0_row12\" class=\"row_heading level0 row12\" >DBDS</th>\n",
       "      <td id=\"T_9b22a_row12_col0\" class=\"data row12 col0\" >470.000000</td>\n",
       "      <td id=\"T_9b22a_row12_col1\" class=\"data row12 col1\" >17.036596</td>\n",
       "      <td id=\"T_9b22a_row12_col2\" class=\"data row12 col2\" >46.735057</td>\n",
       "      <td id=\"T_9b22a_row12_col3\" class=\"data row12 col3\" >0.000000</td>\n",
       "      <td id=\"T_9b22a_row12_col4\" class=\"data row12 col4\" >0.000000</td>\n",
       "      <td id=\"T_9b22a_row12_col5\" class=\"data row12 col5\" >0.000000</td>\n",
       "      <td id=\"T_9b22a_row12_col6\" class=\"data row12 col6\" >2.000000</td>\n",
       "      <td id=\"T_9b22a_row12_col7\" class=\"data row12 col7\" >227.000000</td>\n",
       "    </tr>\n",
       "    <tr>\n",
       "      <th id=\"T_9b22a_level0_row13\" class=\"row_heading level0 row13\" >Water content</th>\n",
       "      <td id=\"T_9b22a_row13_col0\" class=\"data row13 col0\" >470.000000</td>\n",
       "      <td id=\"T_9b22a_row13_col1\" class=\"data row13 col1\" >16.282979</td>\n",
       "      <td id=\"T_9b22a_row13_col2\" class=\"data row13 col2\" >17.115646</td>\n",
       "      <td id=\"T_9b22a_row13_col3\" class=\"data row13 col3\" >0.000000</td>\n",
       "      <td id=\"T_9b22a_row13_col4\" class=\"data row13 col4\" >5.000000</td>\n",
       "      <td id=\"T_9b22a_row13_col5\" class=\"data row13 col5\" >12.000000</td>\n",
       "      <td id=\"T_9b22a_row13_col6\" class=\"data row13 col6\" >21.000000</td>\n",
       "      <td id=\"T_9b22a_row13_col7\" class=\"data row13 col7\" >183.000000</td>\n",
       "    </tr>\n",
       "    <tr>\n",
       "      <th id=\"T_9b22a_level0_row14\" class=\"row_heading level0 row14\" >Power factor</th>\n",
       "      <td id=\"T_9b22a_row14_col0\" class=\"data row14 col0\" >470.000000</td>\n",
       "      <td id=\"T_9b22a_row14_col1\" class=\"data row14 col1\" >1.849043</td>\n",
       "      <td id=\"T_9b22a_row14_col2\" class=\"data row14 col2\" >6.144009</td>\n",
       "      <td id=\"T_9b22a_row14_col3\" class=\"data row14 col3\" >0.050000</td>\n",
       "      <td id=\"T_9b22a_row14_col4\" class=\"data row14 col4\" >0.570000</td>\n",
       "      <td id=\"T_9b22a_row14_col5\" class=\"data row14 col5\" >1.000000</td>\n",
       "      <td id=\"T_9b22a_row14_col6\" class=\"data row14 col6\" >1.000000</td>\n",
       "      <td id=\"T_9b22a_row14_col7\" class=\"data row14 col7\" >73.200000</td>\n",
       "    </tr>\n",
       "  </tbody>\n",
       "</table>\n"
      ],
      "text/plain": [
       "<pandas.io.formats.style.Styler at 0x1603dfb5360>"
      ]
     },
     "execution_count": 3,
     "metadata": {},
     "output_type": "execute_result"
    }
   ],
   "source": [
    "data.describe().T.sort_values(ascending = 0,by = \"mean\").style.background_gradient(cmap = \"BuGn\")"
   ]
  },
  {
   "cell_type": "code",
   "execution_count": 4,
   "metadata": {},
   "outputs": [
    {
     "data": {
      "text/html": [
       "<div>\n",
       "<style scoped>\n",
       "    .dataframe tbody tr th:only-of-type {\n",
       "        vertical-align: middle;\n",
       "    }\n",
       "\n",
       "    .dataframe tbody tr th {\n",
       "        vertical-align: top;\n",
       "    }\n",
       "\n",
       "    .dataframe thead th {\n",
       "        text-align: right;\n",
       "    }\n",
       "</style>\n",
       "<table border=\"1\" class=\"dataframe\">\n",
       "  <thead>\n",
       "    <tr style=\"text-align: right;\">\n",
       "      <th></th>\n",
       "      <th>Hydrogen</th>\n",
       "      <th>Oxigen</th>\n",
       "      <th>Nitrogen</th>\n",
       "      <th>Methane</th>\n",
       "      <th>CO</th>\n",
       "      <th>CO2</th>\n",
       "      <th>Ethylene</th>\n",
       "      <th>Ethane</th>\n",
       "      <th>Acethylene</th>\n",
       "      <th>DBDS</th>\n",
       "      <th>Power factor</th>\n",
       "      <th>Interfacial V</th>\n",
       "      <th>Dielectric rigidity</th>\n",
       "      <th>Water content</th>\n",
       "      <th>Health index</th>\n",
       "    </tr>\n",
       "  </thead>\n",
       "  <tbody>\n",
       "    <tr>\n",
       "      <th>0</th>\n",
       "      <td>2845</td>\n",
       "      <td>5860</td>\n",
       "      <td>27842</td>\n",
       "      <td>7406</td>\n",
       "      <td>32</td>\n",
       "      <td>1344</td>\n",
       "      <td>16684</td>\n",
       "      <td>5467</td>\n",
       "      <td>7</td>\n",
       "      <td>19.00</td>\n",
       "      <td>1.00</td>\n",
       "      <td>45</td>\n",
       "      <td>55</td>\n",
       "      <td>0</td>\n",
       "      <td>95.20</td>\n",
       "    </tr>\n",
       "    <tr>\n",
       "      <th>1</th>\n",
       "      <td>12886</td>\n",
       "      <td>61</td>\n",
       "      <td>25041</td>\n",
       "      <td>877</td>\n",
       "      <td>83</td>\n",
       "      <td>864</td>\n",
       "      <td>4</td>\n",
       "      <td>305</td>\n",
       "      <td>0</td>\n",
       "      <td>45.00</td>\n",
       "      <td>1.00</td>\n",
       "      <td>45</td>\n",
       "      <td>55</td>\n",
       "      <td>0</td>\n",
       "      <td>85.50</td>\n",
       "    </tr>\n",
       "    <tr>\n",
       "      <th>2</th>\n",
       "      <td>2820</td>\n",
       "      <td>16400</td>\n",
       "      <td>56300</td>\n",
       "      <td>144</td>\n",
       "      <td>257</td>\n",
       "      <td>1080</td>\n",
       "      <td>206</td>\n",
       "      <td>11</td>\n",
       "      <td>2190</td>\n",
       "      <td>1.00</td>\n",
       "      <td>1.00</td>\n",
       "      <td>39</td>\n",
       "      <td>52</td>\n",
       "      <td>11</td>\n",
       "      <td>85.30</td>\n",
       "    </tr>\n",
       "    <tr>\n",
       "      <th>3</th>\n",
       "      <td>1099</td>\n",
       "      <td>70</td>\n",
       "      <td>37520</td>\n",
       "      <td>545</td>\n",
       "      <td>184</td>\n",
       "      <td>1402</td>\n",
       "      <td>6</td>\n",
       "      <td>230</td>\n",
       "      <td>0</td>\n",
       "      <td>87.00</td>\n",
       "      <td>4.58</td>\n",
       "      <td>33</td>\n",
       "      <td>49</td>\n",
       "      <td>5</td>\n",
       "      <td>85.30</td>\n",
       "    </tr>\n",
       "    <tr>\n",
       "      <th>4</th>\n",
       "      <td>3210</td>\n",
       "      <td>3570</td>\n",
       "      <td>47900</td>\n",
       "      <td>160</td>\n",
       "      <td>360</td>\n",
       "      <td>2130</td>\n",
       "      <td>4</td>\n",
       "      <td>43</td>\n",
       "      <td>4</td>\n",
       "      <td>1.00</td>\n",
       "      <td>0.77</td>\n",
       "      <td>44</td>\n",
       "      <td>55</td>\n",
       "      <td>3</td>\n",
       "      <td>85.20</td>\n",
       "    </tr>\n",
       "    <tr>\n",
       "      <th>...</th>\n",
       "      <td>...</td>\n",
       "      <td>...</td>\n",
       "      <td>...</td>\n",
       "      <td>...</td>\n",
       "      <td>...</td>\n",
       "      <td>...</td>\n",
       "      <td>...</td>\n",
       "      <td>...</td>\n",
       "      <td>...</td>\n",
       "      <td>...</td>\n",
       "      <td>...</td>\n",
       "      <td>...</td>\n",
       "      <td>...</td>\n",
       "      <td>...</td>\n",
       "      <td>...</td>\n",
       "    </tr>\n",
       "    <tr>\n",
       "      <th>465</th>\n",
       "      <td>15</td>\n",
       "      <td>227</td>\n",
       "      <td>52900</td>\n",
       "      <td>3</td>\n",
       "      <td>60</td>\n",
       "      <td>853</td>\n",
       "      <td>3</td>\n",
       "      <td>84</td>\n",
       "      <td>0</td>\n",
       "      <td>0.00</td>\n",
       "      <td>1.00</td>\n",
       "      <td>32</td>\n",
       "      <td>56</td>\n",
       "      <td>28</td>\n",
       "      <td>13.40</td>\n",
       "    </tr>\n",
       "    <tr>\n",
       "      <th>466</th>\n",
       "      <td>15</td>\n",
       "      <td>334</td>\n",
       "      <td>47100</td>\n",
       "      <td>3</td>\n",
       "      <td>64</td>\n",
       "      <td>622</td>\n",
       "      <td>3</td>\n",
       "      <td>108</td>\n",
       "      <td>0</td>\n",
       "      <td>0.00</td>\n",
       "      <td>1.00</td>\n",
       "      <td>32</td>\n",
       "      <td>55</td>\n",
       "      <td>12</td>\n",
       "      <td>13.40</td>\n",
       "    </tr>\n",
       "    <tr>\n",
       "      <th>467</th>\n",
       "      <td>15</td>\n",
       "      <td>1280</td>\n",
       "      <td>35000</td>\n",
       "      <td>2</td>\n",
       "      <td>675</td>\n",
       "      <td>2530</td>\n",
       "      <td>0</td>\n",
       "      <td>0</td>\n",
       "      <td>0</td>\n",
       "      <td>5.00</td>\n",
       "      <td>0.30</td>\n",
       "      <td>45</td>\n",
       "      <td>58</td>\n",
       "      <td>8</td>\n",
       "      <td>13.40</td>\n",
       "    </tr>\n",
       "    <tr>\n",
       "      <th>468</th>\n",
       "      <td>15</td>\n",
       "      <td>169</td>\n",
       "      <td>50600</td>\n",
       "      <td>5</td>\n",
       "      <td>77</td>\n",
       "      <td>532</td>\n",
       "      <td>0</td>\n",
       "      <td>72</td>\n",
       "      <td>0</td>\n",
       "      <td>0.00</td>\n",
       "      <td>1.21</td>\n",
       "      <td>33</td>\n",
       "      <td>54</td>\n",
       "      <td>11</td>\n",
       "      <td>13.40</td>\n",
       "    </tr>\n",
       "    <tr>\n",
       "      <th>469</th>\n",
       "      <td>15</td>\n",
       "      <td>308</td>\n",
       "      <td>39700</td>\n",
       "      <td>3</td>\n",
       "      <td>64</td>\n",
       "      <td>581</td>\n",
       "      <td>5</td>\n",
       "      <td>27</td>\n",
       "      <td>0</td>\n",
       "      <td>0.00</td>\n",
       "      <td>1.00</td>\n",
       "      <td>32</td>\n",
       "      <td>60</td>\n",
       "      <td>18</td>\n",
       "      <td>13.40</td>\n",
       "    </tr>\n",
       "  </tbody>\n",
       "</table>\n",
       "<p>470 rows × 15 columns</p>\n",
       "</div>"
      ],
      "text/plain": [
       "     Hydrogen  Oxigen  Nitrogen  Methane   CO   CO2  Ethylene  Ethane  \\\n",
       "0        2845    5860     27842     7406   32  1344     16684    5467   \n",
       "1       12886      61     25041      877   83   864         4     305   \n",
       "2        2820   16400     56300      144  257  1080       206      11   \n",
       "3        1099      70     37520      545  184  1402         6     230   \n",
       "4        3210    3570     47900      160  360  2130         4      43   \n",
       "..        ...     ...       ...      ...  ...   ...       ...     ...   \n",
       "465        15     227     52900        3   60   853         3      84   \n",
       "466        15     334     47100        3   64   622         3     108   \n",
       "467        15    1280     35000        2  675  2530         0       0   \n",
       "468        15     169     50600        5   77   532         0      72   \n",
       "469        15     308     39700        3   64   581         5      27   \n",
       "\n",
       "     Acethylene  DBDS  Power factor  Interfacial V  Dielectric rigidity  \\\n",
       "0             7 19.00          1.00             45                   55   \n",
       "1             0 45.00          1.00             45                   55   \n",
       "2          2190  1.00          1.00             39                   52   \n",
       "3             0 87.00          4.58             33                   49   \n",
       "4             4  1.00          0.77             44                   55   \n",
       "..          ...   ...           ...            ...                  ...   \n",
       "465           0  0.00          1.00             32                   56   \n",
       "466           0  0.00          1.00             32                   55   \n",
       "467           0  5.00          0.30             45                   58   \n",
       "468           0  0.00          1.21             33                   54   \n",
       "469           0  0.00          1.00             32                   60   \n",
       "\n",
       "     Water content  Health index  \n",
       "0                0         95.20  \n",
       "1                0         85.50  \n",
       "2               11         85.30  \n",
       "3                5         85.30  \n",
       "4                3         85.20  \n",
       "..             ...           ...  \n",
       "465             28         13.40  \n",
       "466             12         13.40  \n",
       "467              8         13.40  \n",
       "468             11         13.40  \n",
       "469             18         13.40  \n",
       "\n",
       "[470 rows x 15 columns]"
      ]
     },
     "execution_count": 4,
     "metadata": {},
     "output_type": "execute_result"
    }
   ],
   "source": [
    "df = pd.DataFrame(data=data)\n",
    "df"
   ]
  },
  {
   "attachments": {},
   "cell_type": "markdown",
   "metadata": {},
   "source": [
    "Делаем из регрессии классификацию. Создаем столбец Condition, в котором хранится состояния объекта, исходя из столбца Health index."
   ]
  },
  {
   "cell_type": "code",
   "execution_count": 5,
   "metadata": {},
   "outputs": [],
   "source": [
    "Condition = []\n",
    "for row in df['Health index']:\n",
    "    if row > 85 and row <=100:\n",
    "        Condition.append('Very Good')\n",
    "    elif row > 70 and row <=85:\n",
    "        Condition.append('Good')\n",
    "    elif row > 50 and row <=70:\n",
    "        Condition.append('Fair')\n",
    "    elif row > 30 and row <=50:\n",
    "        Condition.append('Poor')\n",
    "    elif row >=0 and row <=30:\n",
    "        Condition.append('Very Poor')\n",
    "    else:\n",
    "        Condition.append(Nan)"
   ]
  },
  {
   "cell_type": "code",
   "execution_count": 6,
   "metadata": {},
   "outputs": [
    {
     "data": {
      "text/html": [
       "<div>\n",
       "<style scoped>\n",
       "    .dataframe tbody tr th:only-of-type {\n",
       "        vertical-align: middle;\n",
       "    }\n",
       "\n",
       "    .dataframe tbody tr th {\n",
       "        vertical-align: top;\n",
       "    }\n",
       "\n",
       "    .dataframe thead th {\n",
       "        text-align: right;\n",
       "    }\n",
       "</style>\n",
       "<table border=\"1\" class=\"dataframe\">\n",
       "  <thead>\n",
       "    <tr style=\"text-align: right;\">\n",
       "      <th></th>\n",
       "      <th>Hydrogen</th>\n",
       "      <th>Oxigen</th>\n",
       "      <th>Nitrogen</th>\n",
       "      <th>Methane</th>\n",
       "      <th>CO</th>\n",
       "      <th>CO2</th>\n",
       "      <th>Ethylene</th>\n",
       "      <th>Ethane</th>\n",
       "      <th>Acethylene</th>\n",
       "      <th>DBDS</th>\n",
       "      <th>Power factor</th>\n",
       "      <th>Interfacial V</th>\n",
       "      <th>Dielectric rigidity</th>\n",
       "      <th>Water content</th>\n",
       "      <th>Health index</th>\n",
       "      <th>Condition</th>\n",
       "    </tr>\n",
       "  </thead>\n",
       "  <tbody>\n",
       "    <tr>\n",
       "      <th>0</th>\n",
       "      <td>2845</td>\n",
       "      <td>5860</td>\n",
       "      <td>27842</td>\n",
       "      <td>7406</td>\n",
       "      <td>32</td>\n",
       "      <td>1344</td>\n",
       "      <td>16684</td>\n",
       "      <td>5467</td>\n",
       "      <td>7</td>\n",
       "      <td>19.00</td>\n",
       "      <td>1.00</td>\n",
       "      <td>45</td>\n",
       "      <td>55</td>\n",
       "      <td>0</td>\n",
       "      <td>95.20</td>\n",
       "      <td>Very Good</td>\n",
       "    </tr>\n",
       "    <tr>\n",
       "      <th>1</th>\n",
       "      <td>12886</td>\n",
       "      <td>61</td>\n",
       "      <td>25041</td>\n",
       "      <td>877</td>\n",
       "      <td>83</td>\n",
       "      <td>864</td>\n",
       "      <td>4</td>\n",
       "      <td>305</td>\n",
       "      <td>0</td>\n",
       "      <td>45.00</td>\n",
       "      <td>1.00</td>\n",
       "      <td>45</td>\n",
       "      <td>55</td>\n",
       "      <td>0</td>\n",
       "      <td>85.50</td>\n",
       "      <td>Very Good</td>\n",
       "    </tr>\n",
       "    <tr>\n",
       "      <th>2</th>\n",
       "      <td>2820</td>\n",
       "      <td>16400</td>\n",
       "      <td>56300</td>\n",
       "      <td>144</td>\n",
       "      <td>257</td>\n",
       "      <td>1080</td>\n",
       "      <td>206</td>\n",
       "      <td>11</td>\n",
       "      <td>2190</td>\n",
       "      <td>1.00</td>\n",
       "      <td>1.00</td>\n",
       "      <td>39</td>\n",
       "      <td>52</td>\n",
       "      <td>11</td>\n",
       "      <td>85.30</td>\n",
       "      <td>Very Good</td>\n",
       "    </tr>\n",
       "    <tr>\n",
       "      <th>3</th>\n",
       "      <td>1099</td>\n",
       "      <td>70</td>\n",
       "      <td>37520</td>\n",
       "      <td>545</td>\n",
       "      <td>184</td>\n",
       "      <td>1402</td>\n",
       "      <td>6</td>\n",
       "      <td>230</td>\n",
       "      <td>0</td>\n",
       "      <td>87.00</td>\n",
       "      <td>4.58</td>\n",
       "      <td>33</td>\n",
       "      <td>49</td>\n",
       "      <td>5</td>\n",
       "      <td>85.30</td>\n",
       "      <td>Very Good</td>\n",
       "    </tr>\n",
       "    <tr>\n",
       "      <th>4</th>\n",
       "      <td>3210</td>\n",
       "      <td>3570</td>\n",
       "      <td>47900</td>\n",
       "      <td>160</td>\n",
       "      <td>360</td>\n",
       "      <td>2130</td>\n",
       "      <td>4</td>\n",
       "      <td>43</td>\n",
       "      <td>4</td>\n",
       "      <td>1.00</td>\n",
       "      <td>0.77</td>\n",
       "      <td>44</td>\n",
       "      <td>55</td>\n",
       "      <td>3</td>\n",
       "      <td>85.20</td>\n",
       "      <td>Very Good</td>\n",
       "    </tr>\n",
       "    <tr>\n",
       "      <th>...</th>\n",
       "      <td>...</td>\n",
       "      <td>...</td>\n",
       "      <td>...</td>\n",
       "      <td>...</td>\n",
       "      <td>...</td>\n",
       "      <td>...</td>\n",
       "      <td>...</td>\n",
       "      <td>...</td>\n",
       "      <td>...</td>\n",
       "      <td>...</td>\n",
       "      <td>...</td>\n",
       "      <td>...</td>\n",
       "      <td>...</td>\n",
       "      <td>...</td>\n",
       "      <td>...</td>\n",
       "      <td>...</td>\n",
       "    </tr>\n",
       "    <tr>\n",
       "      <th>465</th>\n",
       "      <td>15</td>\n",
       "      <td>227</td>\n",
       "      <td>52900</td>\n",
       "      <td>3</td>\n",
       "      <td>60</td>\n",
       "      <td>853</td>\n",
       "      <td>3</td>\n",
       "      <td>84</td>\n",
       "      <td>0</td>\n",
       "      <td>0.00</td>\n",
       "      <td>1.00</td>\n",
       "      <td>32</td>\n",
       "      <td>56</td>\n",
       "      <td>28</td>\n",
       "      <td>13.40</td>\n",
       "      <td>Very Poor</td>\n",
       "    </tr>\n",
       "    <tr>\n",
       "      <th>466</th>\n",
       "      <td>15</td>\n",
       "      <td>334</td>\n",
       "      <td>47100</td>\n",
       "      <td>3</td>\n",
       "      <td>64</td>\n",
       "      <td>622</td>\n",
       "      <td>3</td>\n",
       "      <td>108</td>\n",
       "      <td>0</td>\n",
       "      <td>0.00</td>\n",
       "      <td>1.00</td>\n",
       "      <td>32</td>\n",
       "      <td>55</td>\n",
       "      <td>12</td>\n",
       "      <td>13.40</td>\n",
       "      <td>Very Poor</td>\n",
       "    </tr>\n",
       "    <tr>\n",
       "      <th>467</th>\n",
       "      <td>15</td>\n",
       "      <td>1280</td>\n",
       "      <td>35000</td>\n",
       "      <td>2</td>\n",
       "      <td>675</td>\n",
       "      <td>2530</td>\n",
       "      <td>0</td>\n",
       "      <td>0</td>\n",
       "      <td>0</td>\n",
       "      <td>5.00</td>\n",
       "      <td>0.30</td>\n",
       "      <td>45</td>\n",
       "      <td>58</td>\n",
       "      <td>8</td>\n",
       "      <td>13.40</td>\n",
       "      <td>Very Poor</td>\n",
       "    </tr>\n",
       "    <tr>\n",
       "      <th>468</th>\n",
       "      <td>15</td>\n",
       "      <td>169</td>\n",
       "      <td>50600</td>\n",
       "      <td>5</td>\n",
       "      <td>77</td>\n",
       "      <td>532</td>\n",
       "      <td>0</td>\n",
       "      <td>72</td>\n",
       "      <td>0</td>\n",
       "      <td>0.00</td>\n",
       "      <td>1.21</td>\n",
       "      <td>33</td>\n",
       "      <td>54</td>\n",
       "      <td>11</td>\n",
       "      <td>13.40</td>\n",
       "      <td>Very Poor</td>\n",
       "    </tr>\n",
       "    <tr>\n",
       "      <th>469</th>\n",
       "      <td>15</td>\n",
       "      <td>308</td>\n",
       "      <td>39700</td>\n",
       "      <td>3</td>\n",
       "      <td>64</td>\n",
       "      <td>581</td>\n",
       "      <td>5</td>\n",
       "      <td>27</td>\n",
       "      <td>0</td>\n",
       "      <td>0.00</td>\n",
       "      <td>1.00</td>\n",
       "      <td>32</td>\n",
       "      <td>60</td>\n",
       "      <td>18</td>\n",
       "      <td>13.40</td>\n",
       "      <td>Very Poor</td>\n",
       "    </tr>\n",
       "  </tbody>\n",
       "</table>\n",
       "<p>470 rows × 16 columns</p>\n",
       "</div>"
      ],
      "text/plain": [
       "     Hydrogen  Oxigen  Nitrogen  Methane   CO   CO2  Ethylene  Ethane  \\\n",
       "0        2845    5860     27842     7406   32  1344     16684    5467   \n",
       "1       12886      61     25041      877   83   864         4     305   \n",
       "2        2820   16400     56300      144  257  1080       206      11   \n",
       "3        1099      70     37520      545  184  1402         6     230   \n",
       "4        3210    3570     47900      160  360  2130         4      43   \n",
       "..        ...     ...       ...      ...  ...   ...       ...     ...   \n",
       "465        15     227     52900        3   60   853         3      84   \n",
       "466        15     334     47100        3   64   622         3     108   \n",
       "467        15    1280     35000        2  675  2530         0       0   \n",
       "468        15     169     50600        5   77   532         0      72   \n",
       "469        15     308     39700        3   64   581         5      27   \n",
       "\n",
       "     Acethylene  DBDS  Power factor  Interfacial V  Dielectric rigidity  \\\n",
       "0             7 19.00          1.00             45                   55   \n",
       "1             0 45.00          1.00             45                   55   \n",
       "2          2190  1.00          1.00             39                   52   \n",
       "3             0 87.00          4.58             33                   49   \n",
       "4             4  1.00          0.77             44                   55   \n",
       "..          ...   ...           ...            ...                  ...   \n",
       "465           0  0.00          1.00             32                   56   \n",
       "466           0  0.00          1.00             32                   55   \n",
       "467           0  5.00          0.30             45                   58   \n",
       "468           0  0.00          1.21             33                   54   \n",
       "469           0  0.00          1.00             32                   60   \n",
       "\n",
       "     Water content  Health index  Condition  \n",
       "0                0         95.20  Very Good  \n",
       "1                0         85.50  Very Good  \n",
       "2               11         85.30  Very Good  \n",
       "3                5         85.30  Very Good  \n",
       "4                3         85.20  Very Good  \n",
       "..             ...           ...        ...  \n",
       "465             28         13.40  Very Poor  \n",
       "466             12         13.40  Very Poor  \n",
       "467              8         13.40  Very Poor  \n",
       "468             11         13.40  Very Poor  \n",
       "469             18         13.40  Very Poor  \n",
       "\n",
       "[470 rows x 16 columns]"
      ]
     },
     "execution_count": 6,
     "metadata": {},
     "output_type": "execute_result"
    }
   ],
   "source": [
    "df['Condition'] = Condition\n",
    "df"
   ]
  },
  {
   "cell_type": "code",
   "execution_count": 7,
   "metadata": {},
   "outputs": [],
   "source": [
    "df.drop(columns=['Health index'],axis=1,inplace=True)"
   ]
  },
  {
   "cell_type": "code",
   "execution_count": 8,
   "metadata": {},
   "outputs": [
    {
     "data": {
      "text/plain": [
       "Very Poor    285\n",
       "Poor         135\n",
       "Fair          41\n",
       "Very Good      5\n",
       "Good           4\n",
       "Name: Condition, dtype: int64"
      ]
     },
     "execution_count": 8,
     "metadata": {},
     "output_type": "execute_result"
    }
   ],
   "source": [
    "df['Condition'].value_counts()"
   ]
  },
  {
   "cell_type": "code",
   "execution_count": 9,
   "metadata": {},
   "outputs": [
    {
     "data": {
      "text/html": [
       "<div>\n",
       "<style scoped>\n",
       "    .dataframe tbody tr th:only-of-type {\n",
       "        vertical-align: middle;\n",
       "    }\n",
       "\n",
       "    .dataframe tbody tr th {\n",
       "        vertical-align: top;\n",
       "    }\n",
       "\n",
       "    .dataframe thead th {\n",
       "        text-align: right;\n",
       "    }\n",
       "</style>\n",
       "<table border=\"1\" class=\"dataframe\">\n",
       "  <thead>\n",
       "    <tr style=\"text-align: right;\">\n",
       "      <th></th>\n",
       "      <th>Hydrogen</th>\n",
       "      <th>Oxigen</th>\n",
       "      <th>Nitrogen</th>\n",
       "      <th>Methane</th>\n",
       "      <th>CO</th>\n",
       "      <th>CO2</th>\n",
       "      <th>Ethylene</th>\n",
       "      <th>Ethane</th>\n",
       "      <th>Acethylene</th>\n",
       "      <th>DBDS</th>\n",
       "      <th>Power factor</th>\n",
       "      <th>Interfacial V</th>\n",
       "      <th>Dielectric rigidity</th>\n",
       "      <th>Water content</th>\n",
       "      <th>Condition</th>\n",
       "    </tr>\n",
       "  </thead>\n",
       "  <tbody>\n",
       "    <tr>\n",
       "      <th>0</th>\n",
       "      <td>2845</td>\n",
       "      <td>5860</td>\n",
       "      <td>27842</td>\n",
       "      <td>7406</td>\n",
       "      <td>32</td>\n",
       "      <td>1344</td>\n",
       "      <td>16684</td>\n",
       "      <td>5467</td>\n",
       "      <td>7</td>\n",
       "      <td>19.00</td>\n",
       "      <td>1.00</td>\n",
       "      <td>45</td>\n",
       "      <td>55</td>\n",
       "      <td>0</td>\n",
       "      <td>Very Good</td>\n",
       "    </tr>\n",
       "    <tr>\n",
       "      <th>1</th>\n",
       "      <td>12886</td>\n",
       "      <td>61</td>\n",
       "      <td>25041</td>\n",
       "      <td>877</td>\n",
       "      <td>83</td>\n",
       "      <td>864</td>\n",
       "      <td>4</td>\n",
       "      <td>305</td>\n",
       "      <td>0</td>\n",
       "      <td>45.00</td>\n",
       "      <td>1.00</td>\n",
       "      <td>45</td>\n",
       "      <td>55</td>\n",
       "      <td>0</td>\n",
       "      <td>Very Good</td>\n",
       "    </tr>\n",
       "    <tr>\n",
       "      <th>2</th>\n",
       "      <td>2820</td>\n",
       "      <td>16400</td>\n",
       "      <td>56300</td>\n",
       "      <td>144</td>\n",
       "      <td>257</td>\n",
       "      <td>1080</td>\n",
       "      <td>206</td>\n",
       "      <td>11</td>\n",
       "      <td>2190</td>\n",
       "      <td>1.00</td>\n",
       "      <td>1.00</td>\n",
       "      <td>39</td>\n",
       "      <td>52</td>\n",
       "      <td>11</td>\n",
       "      <td>Very Good</td>\n",
       "    </tr>\n",
       "    <tr>\n",
       "      <th>3</th>\n",
       "      <td>1099</td>\n",
       "      <td>70</td>\n",
       "      <td>37520</td>\n",
       "      <td>545</td>\n",
       "      <td>184</td>\n",
       "      <td>1402</td>\n",
       "      <td>6</td>\n",
       "      <td>230</td>\n",
       "      <td>0</td>\n",
       "      <td>87.00</td>\n",
       "      <td>4.58</td>\n",
       "      <td>33</td>\n",
       "      <td>49</td>\n",
       "      <td>5</td>\n",
       "      <td>Very Good</td>\n",
       "    </tr>\n",
       "    <tr>\n",
       "      <th>4</th>\n",
       "      <td>3210</td>\n",
       "      <td>3570</td>\n",
       "      <td>47900</td>\n",
       "      <td>160</td>\n",
       "      <td>360</td>\n",
       "      <td>2130</td>\n",
       "      <td>4</td>\n",
       "      <td>43</td>\n",
       "      <td>4</td>\n",
       "      <td>1.00</td>\n",
       "      <td>0.77</td>\n",
       "      <td>44</td>\n",
       "      <td>55</td>\n",
       "      <td>3</td>\n",
       "      <td>Very Good</td>\n",
       "    </tr>\n",
       "    <tr>\n",
       "      <th>...</th>\n",
       "      <td>...</td>\n",
       "      <td>...</td>\n",
       "      <td>...</td>\n",
       "      <td>...</td>\n",
       "      <td>...</td>\n",
       "      <td>...</td>\n",
       "      <td>...</td>\n",
       "      <td>...</td>\n",
       "      <td>...</td>\n",
       "      <td>...</td>\n",
       "      <td>...</td>\n",
       "      <td>...</td>\n",
       "      <td>...</td>\n",
       "      <td>...</td>\n",
       "      <td>...</td>\n",
       "    </tr>\n",
       "    <tr>\n",
       "      <th>465</th>\n",
       "      <td>15</td>\n",
       "      <td>227</td>\n",
       "      <td>52900</td>\n",
       "      <td>3</td>\n",
       "      <td>60</td>\n",
       "      <td>853</td>\n",
       "      <td>3</td>\n",
       "      <td>84</td>\n",
       "      <td>0</td>\n",
       "      <td>0.00</td>\n",
       "      <td>1.00</td>\n",
       "      <td>32</td>\n",
       "      <td>56</td>\n",
       "      <td>28</td>\n",
       "      <td>Very Poor</td>\n",
       "    </tr>\n",
       "    <tr>\n",
       "      <th>466</th>\n",
       "      <td>15</td>\n",
       "      <td>334</td>\n",
       "      <td>47100</td>\n",
       "      <td>3</td>\n",
       "      <td>64</td>\n",
       "      <td>622</td>\n",
       "      <td>3</td>\n",
       "      <td>108</td>\n",
       "      <td>0</td>\n",
       "      <td>0.00</td>\n",
       "      <td>1.00</td>\n",
       "      <td>32</td>\n",
       "      <td>55</td>\n",
       "      <td>12</td>\n",
       "      <td>Very Poor</td>\n",
       "    </tr>\n",
       "    <tr>\n",
       "      <th>467</th>\n",
       "      <td>15</td>\n",
       "      <td>1280</td>\n",
       "      <td>35000</td>\n",
       "      <td>2</td>\n",
       "      <td>675</td>\n",
       "      <td>2530</td>\n",
       "      <td>0</td>\n",
       "      <td>0</td>\n",
       "      <td>0</td>\n",
       "      <td>5.00</td>\n",
       "      <td>0.30</td>\n",
       "      <td>45</td>\n",
       "      <td>58</td>\n",
       "      <td>8</td>\n",
       "      <td>Very Poor</td>\n",
       "    </tr>\n",
       "    <tr>\n",
       "      <th>468</th>\n",
       "      <td>15</td>\n",
       "      <td>169</td>\n",
       "      <td>50600</td>\n",
       "      <td>5</td>\n",
       "      <td>77</td>\n",
       "      <td>532</td>\n",
       "      <td>0</td>\n",
       "      <td>72</td>\n",
       "      <td>0</td>\n",
       "      <td>0.00</td>\n",
       "      <td>1.21</td>\n",
       "      <td>33</td>\n",
       "      <td>54</td>\n",
       "      <td>11</td>\n",
       "      <td>Very Poor</td>\n",
       "    </tr>\n",
       "    <tr>\n",
       "      <th>469</th>\n",
       "      <td>15</td>\n",
       "      <td>308</td>\n",
       "      <td>39700</td>\n",
       "      <td>3</td>\n",
       "      <td>64</td>\n",
       "      <td>581</td>\n",
       "      <td>5</td>\n",
       "      <td>27</td>\n",
       "      <td>0</td>\n",
       "      <td>0.00</td>\n",
       "      <td>1.00</td>\n",
       "      <td>32</td>\n",
       "      <td>60</td>\n",
       "      <td>18</td>\n",
       "      <td>Very Poor</td>\n",
       "    </tr>\n",
       "  </tbody>\n",
       "</table>\n",
       "<p>470 rows × 15 columns</p>\n",
       "</div>"
      ],
      "text/plain": [
       "     Hydrogen  Oxigen  Nitrogen  Methane   CO   CO2  Ethylene  Ethane  \\\n",
       "0        2845    5860     27842     7406   32  1344     16684    5467   \n",
       "1       12886      61     25041      877   83   864         4     305   \n",
       "2        2820   16400     56300      144  257  1080       206      11   \n",
       "3        1099      70     37520      545  184  1402         6     230   \n",
       "4        3210    3570     47900      160  360  2130         4      43   \n",
       "..        ...     ...       ...      ...  ...   ...       ...     ...   \n",
       "465        15     227     52900        3   60   853         3      84   \n",
       "466        15     334     47100        3   64   622         3     108   \n",
       "467        15    1280     35000        2  675  2530         0       0   \n",
       "468        15     169     50600        5   77   532         0      72   \n",
       "469        15     308     39700        3   64   581         5      27   \n",
       "\n",
       "     Acethylene  DBDS  Power factor  Interfacial V  Dielectric rigidity  \\\n",
       "0             7 19.00          1.00             45                   55   \n",
       "1             0 45.00          1.00             45                   55   \n",
       "2          2190  1.00          1.00             39                   52   \n",
       "3             0 87.00          4.58             33                   49   \n",
       "4             4  1.00          0.77             44                   55   \n",
       "..          ...   ...           ...            ...                  ...   \n",
       "465           0  0.00          1.00             32                   56   \n",
       "466           0  0.00          1.00             32                   55   \n",
       "467           0  5.00          0.30             45                   58   \n",
       "468           0  0.00          1.21             33                   54   \n",
       "469           0  0.00          1.00             32                   60   \n",
       "\n",
       "     Water content  Condition  \n",
       "0                0  Very Good  \n",
       "1                0  Very Good  \n",
       "2               11  Very Good  \n",
       "3                5  Very Good  \n",
       "4                3  Very Good  \n",
       "..             ...        ...  \n",
       "465             28  Very Poor  \n",
       "466             12  Very Poor  \n",
       "467              8  Very Poor  \n",
       "468             11  Very Poor  \n",
       "469             18  Very Poor  \n",
       "\n",
       "[470 rows x 15 columns]"
      ]
     },
     "execution_count": 9,
     "metadata": {},
     "output_type": "execute_result"
    }
   ],
   "source": [
    "df"
   ]
  },
  {
   "cell_type": "code",
   "execution_count": 10,
   "metadata": {},
   "outputs": [],
   "source": [
    "df.to_excel('Heath index.xlsx')"
   ]
  },
  {
   "cell_type": "code",
   "execution_count": 11,
   "metadata": {},
   "outputs": [
    {
     "data": {
      "text/plain": [
       "<Axes: xlabel='Condition', ylabel='Count'>"
      ]
     },
     "execution_count": 11,
     "metadata": {},
     "output_type": "execute_result"
    },
    {
     "data": {
      "image/png": "[encoded data removed]",
      "text/plain": [
       "<Figure size 640x480 with 1 Axes>"
      ]
     },
     "metadata": {},
     "output_type": "display_data"
    }
   ],
   "source": [
    "sns.set_theme(style='darkgrid')\n",
    "sns.histplot(x='Condition',data=df,stat='count',bins=10)"
   ]
  },
  {
   "attachments": {},
   "cell_type": "markdown",
   "metadata": {},
   "source": [
    "Обучение моделей"
   ]
  },
  {
   "cell_type": "code",
   "execution_count": 12,
   "metadata": {},
   "outputs": [],
   "source": [
    "y = df.loc[:, 'Condition'].copy()\n",
    "x = df.loc[:, [i for i in df.columns if i != 'Condition']].copy()"
   ]
  },
  {
   "cell_type": "code",
   "execution_count": 13,
   "metadata": {},
   "outputs": [],
   "source": [
    "from sklearn.preprocessing import StandardScaler\n",
    "sc = StandardScaler()\n",
    "x = sc.fit_transform(x)"
   ]
  },
  {
   "cell_type": "code",
   "execution_count": 14,
   "metadata": {},
   "outputs": [],
   "source": [
    "from imblearn.over_sampling import RandomOverSampler\n",
    "over=RandomOverSampler()\n",
    "x,y=over.fit_resample(x,y)"
   ]
  },
  {
   "cell_type": "code",
   "execution_count": 15,
   "metadata": {},
   "outputs": [
    {
     "data": {
      "text/plain": [
       "(1425, 14)"
      ]
     },
     "execution_count": 15,
     "metadata": {},
     "output_type": "execute_result"
    }
   ],
   "source": [
    "x.shape"
   ]
  },
  {
   "cell_type": "code",
   "execution_count": 16,
   "metadata": {},
   "outputs": [],
   "source": [
    "x_train, x_test, y_train, y_test = train_test_split(x,y,test_size = 0.2)"
   ]
  },
  {
   "cell_type": "code",
   "execution_count": 17,
   "metadata": {},
   "outputs": [
    {
     "name": "stderr",
     "output_type": "stream",
     "text": [
      "100%|██████████| 29/29 [00:01<00:00, 16.57it/s]\n"
     ]
    }
   ],
   "source": [
    "clf = LazyClassifier(verbose=0, ignore_warnings=True, custom_metric = None,classifiers = 'all')\n",
    "models_class, predictions_class = clf.fit(x_train, x_test, y_train, y_test)"
   ]
  },
  {
   "cell_type": "code",
   "execution_count": 18,
   "metadata": {},
   "outputs": [
    {
     "data": {
      "text/html": [
       "<div>\n",
       "<style scoped>\n",
       "    .dataframe tbody tr th:only-of-type {\n",
       "        vertical-align: middle;\n",
       "    }\n",
       "\n",
       "    .dataframe tbody tr th {\n",
       "        vertical-align: top;\n",
       "    }\n",
       "\n",
       "    .dataframe thead th {\n",
       "        text-align: right;\n",
       "    }\n",
       "</style>\n",
       "<table border=\"1\" class=\"dataframe\">\n",
       "  <thead>\n",
       "    <tr style=\"text-align: right;\">\n",
       "      <th></th>\n",
       "      <th>Accuracy</th>\n",
       "      <th>Balanced Accuracy</th>\n",
       "      <th>ROC AUC</th>\n",
       "      <th>F1 Score</th>\n",
       "      <th>Time Taken</th>\n",
       "    </tr>\n",
       "    <tr>\n",
       "      <th>Model</th>\n",
       "      <th></th>\n",
       "      <th></th>\n",
       "      <th></th>\n",
       "      <th></th>\n",
       "      <th></th>\n",
       "    </tr>\n",
       "  </thead>\n",
       "  <tbody>\n",
       "    <tr>\n",
       "      <th>RandomForestClassifier</th>\n",
       "      <td>0.96</td>\n",
       "      <td>0.96</td>\n",
       "      <td>None</td>\n",
       "      <td>0.96</td>\n",
       "      <td>0.18</td>\n",
       "    </tr>\n",
       "    <tr>\n",
       "      <th>ExtraTreesClassifier</th>\n",
       "      <td>0.95</td>\n",
       "      <td>0.96</td>\n",
       "      <td>None</td>\n",
       "      <td>0.95</td>\n",
       "      <td>0.11</td>\n",
       "    </tr>\n",
       "    <tr>\n",
       "      <th>LGBMClassifier</th>\n",
       "      <td>0.95</td>\n",
       "      <td>0.96</td>\n",
       "      <td>None</td>\n",
       "      <td>0.95</td>\n",
       "      <td>0.28</td>\n",
       "    </tr>\n",
       "    <tr>\n",
       "      <th>BaggingClassifier</th>\n",
       "      <td>0.95</td>\n",
       "      <td>0.95</td>\n",
       "      <td>None</td>\n",
       "      <td>0.95</td>\n",
       "      <td>0.04</td>\n",
       "    </tr>\n",
       "    <tr>\n",
       "      <th>LabelPropagation</th>\n",
       "      <td>0.95</td>\n",
       "      <td>0.95</td>\n",
       "      <td>None</td>\n",
       "      <td>0.95</td>\n",
       "      <td>0.04</td>\n",
       "    </tr>\n",
       "    <tr>\n",
       "      <th>LabelSpreading</th>\n",
       "      <td>0.95</td>\n",
       "      <td>0.95</td>\n",
       "      <td>None</td>\n",
       "      <td>0.95</td>\n",
       "      <td>0.05</td>\n",
       "    </tr>\n",
       "    <tr>\n",
       "      <th>ExtraTreeClassifier</th>\n",
       "      <td>0.94</td>\n",
       "      <td>0.95</td>\n",
       "      <td>None</td>\n",
       "      <td>0.94</td>\n",
       "      <td>0.01</td>\n",
       "    </tr>\n",
       "    <tr>\n",
       "      <th>DecisionTreeClassifier</th>\n",
       "      <td>0.94</td>\n",
       "      <td>0.95</td>\n",
       "      <td>None</td>\n",
       "      <td>0.94</td>\n",
       "      <td>0.01</td>\n",
       "    </tr>\n",
       "    <tr>\n",
       "      <th>KNeighborsClassifier</th>\n",
       "      <td>0.89</td>\n",
       "      <td>0.90</td>\n",
       "      <td>None</td>\n",
       "      <td>0.89</td>\n",
       "      <td>0.02</td>\n",
       "    </tr>\n",
       "    <tr>\n",
       "      <th>SVC</th>\n",
       "      <td>0.87</td>\n",
       "      <td>0.88</td>\n",
       "      <td>None</td>\n",
       "      <td>0.87</td>\n",
       "      <td>0.03</td>\n",
       "    </tr>\n",
       "    <tr>\n",
       "      <th>NuSVC</th>\n",
       "      <td>0.82</td>\n",
       "      <td>0.82</td>\n",
       "      <td>None</td>\n",
       "      <td>0.82</td>\n",
       "      <td>0.08</td>\n",
       "    </tr>\n",
       "    <tr>\n",
       "      <th>LogisticRegression</th>\n",
       "      <td>0.80</td>\n",
       "      <td>0.80</td>\n",
       "      <td>None</td>\n",
       "      <td>0.80</td>\n",
       "      <td>0.03</td>\n",
       "    </tr>\n",
       "    <tr>\n",
       "      <th>LinearSVC</th>\n",
       "      <td>0.77</td>\n",
       "      <td>0.78</td>\n",
       "      <td>None</td>\n",
       "      <td>0.77</td>\n",
       "      <td>0.11</td>\n",
       "    </tr>\n",
       "    <tr>\n",
       "      <th>CalibratedClassifierCV</th>\n",
       "      <td>0.76</td>\n",
       "      <td>0.77</td>\n",
       "      <td>None</td>\n",
       "      <td>0.76</td>\n",
       "      <td>0.43</td>\n",
       "    </tr>\n",
       "    <tr>\n",
       "      <th>SGDClassifier</th>\n",
       "      <td>0.73</td>\n",
       "      <td>0.72</td>\n",
       "      <td>None</td>\n",
       "      <td>0.73</td>\n",
       "      <td>0.02</td>\n",
       "    </tr>\n",
       "    <tr>\n",
       "      <th>PassiveAggressiveClassifier</th>\n",
       "      <td>0.71</td>\n",
       "      <td>0.72</td>\n",
       "      <td>None</td>\n",
       "      <td>0.71</td>\n",
       "      <td>0.01</td>\n",
       "    </tr>\n",
       "    <tr>\n",
       "      <th>LinearDiscriminantAnalysis</th>\n",
       "      <td>0.68</td>\n",
       "      <td>0.67</td>\n",
       "      <td>None</td>\n",
       "      <td>0.66</td>\n",
       "      <td>0.02</td>\n",
       "    </tr>\n",
       "    <tr>\n",
       "      <th>RidgeClassifier</th>\n",
       "      <td>0.66</td>\n",
       "      <td>0.65</td>\n",
       "      <td>None</td>\n",
       "      <td>0.65</td>\n",
       "      <td>0.02</td>\n",
       "    </tr>\n",
       "    <tr>\n",
       "      <th>RidgeClassifierCV</th>\n",
       "      <td>0.66</td>\n",
       "      <td>0.65</td>\n",
       "      <td>None</td>\n",
       "      <td>0.65</td>\n",
       "      <td>0.01</td>\n",
       "    </tr>\n",
       "    <tr>\n",
       "      <th>BernoulliNB</th>\n",
       "      <td>0.61</td>\n",
       "      <td>0.60</td>\n",
       "      <td>None</td>\n",
       "      <td>0.60</td>\n",
       "      <td>0.01</td>\n",
       "    </tr>\n",
       "    <tr>\n",
       "      <th>Perceptron</th>\n",
       "      <td>0.61</td>\n",
       "      <td>0.60</td>\n",
       "      <td>None</td>\n",
       "      <td>0.60</td>\n",
       "      <td>0.01</td>\n",
       "    </tr>\n",
       "    <tr>\n",
       "      <th>GaussianNB</th>\n",
       "      <td>0.61</td>\n",
       "      <td>0.59</td>\n",
       "      <td>None</td>\n",
       "      <td>0.61</td>\n",
       "      <td>0.01</td>\n",
       "    </tr>\n",
       "    <tr>\n",
       "      <th>NearestCentroid</th>\n",
       "      <td>0.53</td>\n",
       "      <td>0.51</td>\n",
       "      <td>None</td>\n",
       "      <td>0.50</td>\n",
       "      <td>0.07</td>\n",
       "    </tr>\n",
       "    <tr>\n",
       "      <th>QuadraticDiscriminantAnalysis</th>\n",
       "      <td>0.47</td>\n",
       "      <td>0.44</td>\n",
       "      <td>None</td>\n",
       "      <td>0.37</td>\n",
       "      <td>0.01</td>\n",
       "    </tr>\n",
       "    <tr>\n",
       "      <th>AdaBoostClassifier</th>\n",
       "      <td>0.46</td>\n",
       "      <td>0.44</td>\n",
       "      <td>None</td>\n",
       "      <td>0.34</td>\n",
       "      <td>0.12</td>\n",
       "    </tr>\n",
       "    <tr>\n",
       "      <th>DummyClassifier</th>\n",
       "      <td>0.18</td>\n",
       "      <td>0.20</td>\n",
       "      <td>None</td>\n",
       "      <td>0.06</td>\n",
       "      <td>0.01</td>\n",
       "    </tr>\n",
       "  </tbody>\n",
       "</table>\n",
       "</div>"
      ],
      "text/plain": [
       "                               Accuracy  Balanced Accuracy ROC AUC  F1 Score  \\\n",
       "Model                                                                          \n",
       "RandomForestClassifier             0.96               0.96    None      0.96   \n",
       "ExtraTreesClassifier               0.95               0.96    None      0.95   \n",
       "LGBMClassifier                     0.95               0.96    None      0.95   \n",
       "BaggingClassifier                  0.95               0.95    None      0.95   \n",
       "LabelPropagation                   0.95               0.95    None      0.95   \n",
       "LabelSpreading                     0.95               0.95    None      0.95   \n",
       "ExtraTreeClassifier                0.94               0.95    None      0.94   \n",
       "DecisionTreeClassifier             0.94               0.95    None      0.94   \n",
       "KNeighborsClassifier               0.89               0.90    None      0.89   \n",
       "SVC                                0.87               0.88    None      0.87   \n",
       "NuSVC                              0.82               0.82    None      0.82   \n",
       "LogisticRegression                 0.80               0.80    None      0.80   \n",
       "LinearSVC                          0.77               0.78    None      0.77   \n",
       "CalibratedClassifierCV             0.76               0.77    None      0.76   \n",
       "SGDClassifier                      0.73               0.72    None      0.73   \n",
       "PassiveAggressiveClassifier        0.71               0.72    None      0.71   \n",
       "LinearDiscriminantAnalysis         0.68               0.67    None      0.66   \n",
       "RidgeClassifier                    0.66               0.65    None      0.65   \n",
       "RidgeClassifierCV                  0.66               0.65    None      0.65   \n",
       "BernoulliNB                        0.61               0.60    None      0.60   \n",
       "Perceptron                         0.61               0.60    None      0.60   \n",
       "GaussianNB                         0.61               0.59    None      0.61   \n",
       "NearestCentroid                    0.53               0.51    None      0.50   \n",
       "QuadraticDiscriminantAnalysis      0.47               0.44    None      0.37   \n",
       "AdaBoostClassifier                 0.46               0.44    None      0.34   \n",
       "DummyClassifier                    0.18               0.20    None      0.06   \n",
       "\n",
       "                               Time Taken  \n",
       "Model                                      \n",
       "RandomForestClassifier               0.18  \n",
       "ExtraTreesClassifier                 0.11  \n",
       "LGBMClassifier                       0.28  \n",
       "BaggingClassifier                    0.04  \n",
       "LabelPropagation                     0.04  \n",
       "LabelSpreading                       0.05  \n",
       "ExtraTreeClassifier                  0.01  \n",
       "DecisionTreeClassifier               0.01  \n",
       "KNeighborsClassifier                 0.02  \n",
       "SVC                                  0.03  \n",
       "NuSVC                                0.08  \n",
       "LogisticRegression                   0.03  \n",
       "LinearSVC                            0.11  \n",
       "CalibratedClassifierCV               0.43  \n",
       "SGDClassifier                        0.02  \n",
       "PassiveAggressiveClassifier          0.01  \n",
       "LinearDiscriminantAnalysis           0.02  \n",
       "RidgeClassifier                      0.02  \n",
       "RidgeClassifierCV                    0.01  \n",
       "BernoulliNB                          0.01  \n",
       "Perceptron                           0.01  \n",
       "GaussianNB                           0.01  \n",
       "NearestCentroid                      0.07  \n",
       "QuadraticDiscriminantAnalysis        0.01  \n",
       "AdaBoostClassifier                   0.12  \n",
       "DummyClassifier                      0.01  "
      ]
     },
     "execution_count": 18,
     "metadata": {},
     "output_type": "execute_result"
    }
   ],
   "source": [
    "models_class"
   ]
  },
  {
   "cell_type": "code",
   "execution_count": 19,
   "metadata": {},
   "outputs": [
    {
     "data": {
      "application/vnd.plotly.v1+json": {
       "config": {
        "plotlyServerURL": "https://plot.ly"
       },
       "data": [
        {
         "hovertemplate": "variable=Accuracy<br>Model=%{x}<br>value=%{y}<extra></extra>",
         "legendgroup": "Accuracy",
         "line": {
          "color": "red",
          "dash": "solid"
         },
         "marker": {
          "symbol": "circle"
         },
         "mode": "markers+lines",
         "name": "Accuracy",
         "orientation": "v",
         "showlegend": true,
         "type": "scatter",
         "x": [
          "DummyClassifier",
          "AdaBoostClassifier",
          "QuadraticDiscriminantAnalysis",
          "NearestCentroid",
          "Perceptron",
          "GaussianNB",
          "BernoulliNB",
          "RidgeClassifierCV",
          "RidgeClassifier",
          "LinearDiscriminantAnalysis",
          "PassiveAggressiveClassifier",
          "SGDClassifier",
          "CalibratedClassifierCV",
          "LinearSVC",
          "LogisticRegression",
          "NuSVC",
          "SVC",
          "KNeighborsClassifier",
          "DecisionTreeClassifier",
          "ExtraTreeClassifier",
          "LabelSpreading",
          "LabelPropagation",
          "BaggingClassifier",
          "LGBMClassifier",
          "ExtraTreesClassifier",
          "RandomForestClassifier"
         ],
         "xaxis": "x",
         "y": [
          0.1824561403508772,
          0.4631578947368421,
          0.4666666666666667,
          0.5298245614035088,
          0.6070175438596491,
          0.6105263157894737,
          0.6105263157894737,
          0.6596491228070176,
          0.6596491228070176,
          0.6771929824561403,
          0.712280701754386,
          0.7263157894736842,
          0.7649122807017544,
          0.7719298245614035,
          0.7964912280701755,
          0.8175438596491228,
          0.8701754385964913,
          0.8947368421052632,
          0.9368421052631579,
          0.9403508771929825,
          0.9473684210526315,
          0.9473684210526315,
          0.9473684210526315,
          0.9508771929824561,
          0.9543859649122807,
          0.9578947368421052
         ],
         "yaxis": "y"
        }
       ],
       "layout": {
        "legend": {
         "title": {
          "text": "variable"
         },
         "tracegroupgap": 0
        },
        "margin": {
         "t": 60
        },
        "showlegend": true,
        "template": {
         "data": {
          "bar": [
           {
            "error_x": {
             "color": "#2a3f5f"
            },
            "error_y": {
             "color": "#2a3f5f"
            },
            "marker": {
             "line": {
              "color": "#E5ECF6",
              "width": 0.5
             },
             "pattern": {
              "fillmode": "overlay",
              "size": 10,
              "solidity": 0.2
             }
            },
            "type": "bar"
           }
          ],
          "barpolar": [
           {
            "marker": {
             "line": {
              "color": "#E5ECF6",
              "width": 0.5
             },
             "pattern": {
              "fillmode": "overlay",
              "size": 10,
              "solidity": 0.2
             }
            },
            "type": "barpolar"
           }
          ],
          "carpet": [
           {
            "aaxis": {
             "endlinecolor": "#2a3f5f",
             "gridcolor": "white",
             "linecolor": "white",
             "minorgridcolor": "white",
             "startlinecolor": "#2a3f5f"
            },
            "baxis": {
             "endlinecolor": "#2a3f5f",
             "gridcolor": "white",
             "linecolor": "white",
             "minorgridcolor": "white",
             "startlinecolor": "#2a3f5f"
            },
            "type": "carpet"
           }
          ],
          "choropleth": [
           {
            "colorbar": {
             "outlinewidth": 0,
             "ticks": ""
            },
            "type": "choropleth"
           }
          ],
          "contour": [
           {
            "colorbar": {
             "outlinewidth": 0,
             "ticks": ""
            },
            "colorscale": [
             [
              0,
              "#0d0887"
             ],
             [
              0.1111111111111111,
              "#46039f"
             ],
             [
              0.2222222222222222,
              "#7201a8"
             ],
             [
              0.3333333333333333,
              "#9c179e"
             ],
             [
              0.4444444444444444,
              "#bd3786"
             ],
             [
              0.5555555555555556,
              "#d8576b"
             ],
             [
              0.6666666666666666,
              "#ed7953"
             ],
             [
              0.7777777777777778,
              "#fb9f3a"
             ],
             [
              0.8888888888888888,
              "#fdca26"
             ],
             [
              1,
              "#f0f921"
             ]
            ],
            "type": "contour"
           }
          ],
          "contourcarpet": [
           {
            "colorbar": {
             "outlinewidth": 0,
             "ticks": ""
            },
            "type": "contourcarpet"
           }
          ],
          "heatmap": [
           {
            "colorbar": {
             "outlinewidth": 0,
             "ticks": ""
            },
            "colorscale": [
             [
              0,
              "#0d0887"
             ],
             [
              0.1111111111111111,
              "#46039f"
             ],
             [
              0.2222222222222222,
              "#7201a8"
             ],
             [
              0.3333333333333333,
              "#9c179e"
             ],
             [
              0.4444444444444444,
              "#bd3786"
             ],
             [
              0.5555555555555556,
              "#d8576b"
             ],
             [
              0.6666666666666666,
              "#ed7953"
             ],
             [
              0.7777777777777778,
              "#fb9f3a"
             ],
             [
              0.8888888888888888,
              "#fdca26"
             ],
             [
              1,
              "#f0f921"
             ]
            ],
            "type": "heatmap"
           }
          ],
          "heatmapgl": [
           {
            "colorbar": {
             "outlinewidth": 0,
             "ticks": ""
            },
            "colorscale": [
             [
              0,
              "#0d0887"
             ],
             [
              0.1111111111111111,
              "#46039f"
             ],
             [
              0.2222222222222222,
              "#7201a8"
             ],
             [
              0.3333333333333333,
              "#9c179e"
             ],
             [
              0.4444444444444444,
              "#bd3786"
             ],
             [
              0.5555555555555556,
              "#d8576b"
             ],
             [
              0.6666666666666666,
              "#ed7953"
             ],
             [
              0.7777777777777778,
              "#fb9f3a"
             ],
             [
              0.8888888888888888,
              "#fdca26"
             ],
             [
              1,
              "#f0f921"
             ]
            ],
            "type": "heatmapgl"
           }
          ],
          "histogram": [
           {
            "marker": {
             "pattern": {
              "fillmode": "overlay",
              "size": 10,
              "solidity": 0.2
             }
            },
            "type": "histogram"
           }
          ],
          "histogram2d": [
           {
            "colorbar": {
             "outlinewidth": 0,
             "ticks": ""
            },
            "colorscale": [
             [
              0,
              "#0d0887"
             ],
             [
              0.1111111111111111,
              "#46039f"
             ],
             [
              0.2222222222222222,
              "#7201a8"
             ],
             [
              0.3333333333333333,
              "#9c179e"
             ],
             [
              0.4444444444444444,
              "#bd3786"
             ],
             [
              0.5555555555555556,
              "#d8576b"
             ],
             [
              0.6666666666666666,
              "#ed7953"
             ],
             [
              0.7777777777777778,
              "#fb9f3a"
             ],
             [
              0.8888888888888888,
              "#fdca26"
             ],
             [
              1,
              "#f0f921"
             ]
            ],
            "type": "histogram2d"
           }
          ],
          "histogram2dcontour": [
           {
            "colorbar": {
             "outlinewidth": 0,
             "ticks": ""
            },
            "colorscale": [
             [
              0,
              "#0d0887"
             ],
             [
              0.1111111111111111,
              "#46039f"
             ],
             [
              0.2222222222222222,
              "#7201a8"
             ],
             [
              0.3333333333333333,
              "#9c179e"
             ],
             [
              0.4444444444444444,
              "#bd3786"
             ],
             [
              0.5555555555555556,
              "#d8576b"
             ],
             [
              0.6666666666666666,
              "#ed7953"
             ],
             [
              0.7777777777777778,
              "#fb9f3a"
             ],
             [
              0.8888888888888888,
              "#fdca26"
             ],
             [
              1,
              "#f0f921"
             ]
            ],
            "type": "histogram2dcontour"
           }
          ],
          "mesh3d": [
           {
            "colorbar": {
             "outlinewidth": 0,
             "ticks": ""
            },
            "type": "mesh3d"
           }
          ],
          "parcoords": [
           {
            "line": {
             "colorbar": {
              "outlinewidth": 0,
              "ticks": ""
             }
            },
            "type": "parcoords"
           }
          ],
          "pie": [
           {
            "automargin": true,
            "type": "pie"
           }
          ],
          "scatter": [
           {
            "fillpattern": {
             "fillmode": "overlay",
             "size": 10,
             "solidity": 0.2
            },
            "type": "scatter"
           }
          ],
          "scatter3d": [
           {
            "line": {
             "colorbar": {
              "outlinewidth": 0,
              "ticks": ""
             }
            },
            "marker": {
             "colorbar": {
              "outlinewidth": 0,
              "ticks": ""
             }
            },
            "type": "scatter3d"
           }
          ],
          "scattercarpet": [
           {
            "marker": {
             "colorbar": {
              "outlinewidth": 0,
              "ticks": ""
             }
            },
            "type": "scattercarpet"
           }
          ],
          "scattergeo": [
           {
            "marker": {
             "colorbar": {
              "outlinewidth": 0,
              "ticks": ""
             }
            },
            "type": "scattergeo"
           }
          ],
          "scattergl": [
           {
            "marker": {
             "colorbar": {
              "outlinewidth": 0,
              "ticks": ""
             }
            },
            "type": "scattergl"
           }
          ],
          "scattermapbox": [
           {
            "marker": {
             "colorbar": {
              "outlinewidth": 0,
              "ticks": ""
             }
            },
            "type": "scattermapbox"
           }
          ],
          "scatterpolar": [
           {
            "marker": {
             "colorbar": {
              "outlinewidth": 0,
              "ticks": ""
             }
            },
            "type": "scatterpolar"
           }
          ],
          "scatterpolargl": [
           {
            "marker": {
             "colorbar": {
              "outlinewidth": 0,
              "ticks": ""
             }
            },
            "type": "scatterpolargl"
           }
          ],
          "scatterternary": [
           {
            "marker": {
             "colorbar": {
              "outlinewidth": 0,
              "ticks": ""
             }
            },
            "type": "scatterternary"
           }
          ],
          "surface": [
           {
            "colorbar": {
             "outlinewidth": 0,
             "ticks": ""
            },
            "colorscale": [
             [
              0,
              "#0d0887"
             ],
             [
              0.1111111111111111,
              "#46039f"
             ],
             [
              0.2222222222222222,
              "#7201a8"
             ],
             [
              0.3333333333333333,
              "#9c179e"
             ],
             [
              0.4444444444444444,
              "#bd3786"
             ],
             [
              0.5555555555555556,
              "#d8576b"
             ],
             [
              0.6666666666666666,
              "#ed7953"
             ],
             [
              0.7777777777777778,
              "#fb9f3a"
             ],
             [
              0.8888888888888888,
              "#fdca26"
             ],
             [
              1,
              "#f0f921"
             ]
            ],
            "type": "surface"
           }
          ],
          "table": [
           {
            "cells": {
             "fill": {
              "color": "#EBF0F8"
             },
             "line": {
              "color": "white"
             }
            },
            "header": {
             "fill": {
              "color": "#C8D4E3"
             },
             "line": {
              "color": "white"
             }
            },
            "type": "table"
           }
          ]
         },
         "layout": {
          "annotationdefaults": {
           "arrowcolor": "#2a3f5f",
           "arrowhead": 0,
           "arrowwidth": 1
          },
          "autotypenumbers": "strict",
          "coloraxis": {
           "colorbar": {
            "outlinewidth": 0,
            "ticks": ""
           }
          },
          "colorscale": {
           "diverging": [
            [
             0,
             "#8e0152"
            ],
            [
             0.1,
             "#c51b7d"
            ],
            [
             0.2,
             "#de77ae"
            ],
            [
             0.3,
             "#f1b6da"
            ],
            [
             0.4,
             "#fde0ef"
            ],
            [
             0.5,
             "#f7f7f7"
            ],
            [
             0.6,
             "#e6f5d0"
            ],
            [
             0.7,
             "#b8e186"
            ],
            [
             0.8,
             "#7fbc41"
            ],
            [
             0.9,
             "#4d9221"
            ],
            [
             1,
             "#276419"
            ]
           ],
           "sequential": [
            [
             0,
             "#0d0887"
            ],
            [
             0.1111111111111111,
             "#46039f"
            ],
            [
             0.2222222222222222,
             "#7201a8"
            ],
            [
             0.3333333333333333,
             "#9c179e"
            ],
            [
             0.4444444444444444,
             "#bd3786"
            ],
            [
             0.5555555555555556,
             "#d8576b"
            ],
            [
             0.6666666666666666,
             "#ed7953"
            ],
            [
             0.7777777777777778,
             "#fb9f3a"
            ],
            [
             0.8888888888888888,
             "#fdca26"
            ],
            [
             1,
             "#f0f921"
            ]
           ],
           "sequentialminus": [
            [
             0,
             "#0d0887"
            ],
            [
             0.1111111111111111,
             "#46039f"
            ],
            [
             0.2222222222222222,
             "#7201a8"
            ],
            [
             0.3333333333333333,
             "#9c179e"
            ],
            [
             0.4444444444444444,
             "#bd3786"
            ],
            [
             0.5555555555555556,
             "#d8576b"
            ],
            [
             0.6666666666666666,
             "#ed7953"
            ],
            [
             0.7777777777777778,
             "#fb9f3a"
            ],
            [
             0.8888888888888888,
             "#fdca26"
            ],
            [
             1,
             "#f0f921"
            ]
           ]
          },
          "colorway": [
           "#636efa",
           "#EF553B",
           "#00cc96",
           "#ab63fa",
           "#FFA15A",
           "#19d3f3",
           "#FF6692",
           "#B6E880",
           "#FF97FF",
           "#FECB52"
          ],
          "font": {
           "color": "#2a3f5f"
          },
          "geo": {
           "bgcolor": "white",
           "lakecolor": "white",
           "landcolor": "#E5ECF6",
           "showlakes": true,
           "showland": true,
           "subunitcolor": "white"
          },
          "hoverlabel": {
           "align": "left"
          },
          "hovermode": "closest",
          "mapbox": {
           "style": "light"
          },
          "paper_bgcolor": "white",
          "plot_bgcolor": "#E5ECF6",
          "polar": {
           "angularaxis": {
            "gridcolor": "white",
            "linecolor": "white",
            "ticks": ""
           },
           "bgcolor": "#E5ECF6",
           "radialaxis": {
            "gridcolor": "white",
            "linecolor": "white",
            "ticks": ""
           }
          },
          "scene": {
           "xaxis": {
            "backgroundcolor": "#E5ECF6",
            "gridcolor": "white",
            "gridwidth": 2,
            "linecolor": "white",
            "showbackground": true,
            "ticks": "",
            "zerolinecolor": "white"
           },
           "yaxis": {
            "backgroundcolor": "#E5ECF6",
            "gridcolor": "white",
            "gridwidth": 2,
            "linecolor": "white",
            "showbackground": true,
            "ticks": "",
            "zerolinecolor": "white"
           },
           "zaxis": {
            "backgroundcolor": "#E5ECF6",
            "gridcolor": "white",
            "gridwidth": 2,
            "linecolor": "white",
            "showbackground": true,
            "ticks": "",
            "zerolinecolor": "white"
           }
          },
          "shapedefaults": {
           "line": {
            "color": "#2a3f5f"
           }
          },
          "ternary": {
           "aaxis": {
            "gridcolor": "white",
            "linecolor": "white",
            "ticks": ""
           },
           "baxis": {
            "gridcolor": "white",
            "linecolor": "white",
            "ticks": ""
           },
           "bgcolor": "#E5ECF6",
           "caxis": {
            "gridcolor": "white",
            "linecolor": "white",
            "ticks": ""
           }
          },
          "title": {
           "x": 0.05
          },
          "xaxis": {
           "automargin": true,
           "gridcolor": "white",
           "linecolor": "white",
           "ticks": "",
           "title": {
            "standoff": 15
           },
           "zerolinecolor": "white",
           "zerolinewidth": 2
          },
          "yaxis": {
           "automargin": true,
           "gridcolor": "white",
           "linecolor": "white",
           "ticks": "",
           "title": {
            "standoff": 15
           },
           "zerolinecolor": "white",
           "zerolinewidth": 2
          }
         }
        },
        "title": {
         "text": "Точность моделей"
        },
        "xaxis": {
         "anchor": "y",
         "domain": [
          0,
          1
         ],
         "title": {
          "text": "Model"
         }
        },
        "yaxis": {
         "anchor": "x",
         "domain": [
          0,
          1
         ],
         "title": {
          "text": "Точность"
         }
        }
       }
      }
     },
     "metadata": {},
     "output_type": "display_data"
    }
   ],
   "source": [
    "models_class.sort_values(by = 'Accuracy',inplace = True)\n",
    "line = px.line(data_frame= models_class ,y =[\"Accuracy\"] , markers = True)\n",
    "#line.update_xaxes(title=\"Модель\")\n",
    "line.update_yaxes(title = \"Точность\")\n",
    "line.update_traces(line_color=\"red\")\n",
    "line.update_layout(showlegend = True, title = {'text': 'Точность моделей'})\n",
    "\n",
    "line.show()"
   ]
  },
  {
   "attachments": {},
   "cell_type": "markdown",
   "metadata": {},
   "source": [
    "Используем Random forest"
   ]
  },
  {
   "cell_type": "code",
   "execution_count": 25,
   "metadata": {},
   "outputs": [
    {
     "data": {
      "text/plain": [
       "{'bootstrap': True,\n",
       " 'ccp_alpha': 0.0,\n",
       " 'class_weight': None,\n",
       " 'criterion': 'gini',\n",
       " 'max_depth': None,\n",
       " 'max_features': 'sqrt',\n",
       " 'max_leaf_nodes': None,\n",
       " 'max_samples': None,\n",
       " 'min_impurity_decrease': 0.0,\n",
       " 'min_samples_leaf': 1,\n",
       " 'min_samples_split': 2,\n",
       " 'min_weight_fraction_leaf': 0.0,\n",
       " 'n_estimators': 100,\n",
       " 'n_jobs': None,\n",
       " 'oob_score': False,\n",
       " 'random_state': None,\n",
       " 'verbose': 0,\n",
       " 'warm_start': False}"
      ]
     },
     "execution_count": 25,
     "metadata": {},
     "output_type": "execute_result"
    }
   ],
   "source": [
    "from sklearn.ensemble import RandomForestClassifier\n",
    "rfc = RandomForestClassifier()\n",
    "rfc.fit(x_train, y_train)\n",
    "rfc.get_params()"
   ]
  },
  {
   "cell_type": "code",
   "execution_count": 26,
   "metadata": {},
   "outputs": [
    {
     "name": "stdout",
     "output_type": "stream",
     "text": [
      "0.9614035087719298\n"
     ]
    }
   ],
   "source": [
    "y_pred = rfc.predict(x_test)\n",
    "acc = accuracy_score(y_test, y_pred)\n",
    "print(acc)"
   ]
  },
  {
   "cell_type": "code",
   "execution_count": 27,
   "metadata": {},
   "outputs": [
    {
     "data": {
      "text/plain": [
       "['./random_forest.joblib']"
      ]
     },
     "execution_count": 27,
     "metadata": {},
     "output_type": "execute_result"
    }
   ],
   "source": [
    "import joblib\n",
    "joblib.dump(rfc, \"./random_forest.joblib\")"
   ]
  },
  {
   "attachments": {},
   "cell_type": "markdown",
   "metadata": {},
   "source": [
    "Поиск оптимальных гиперпараметров через RandomizedSearchCV"
   ]
  },
  {
   "cell_type": "code",
   "execution_count": null,
   "metadata": {},
   "outputs": [],
   "source": [
    "from sklearn.model_selection import RandomizedSearchCV\n",
    "rfc_test = RandomForestClassifier()\n",
    "crossvalidation=KFold(n_splits=10,shuffle=True,random_state=1)\n",
    "n_estimators = [int(x) for x in np.linspace(start = 100, stop = 1000, num = 10)]\n",
    "max_features = ['log2', 'sqrt']\n",
    "max_depth = [int(x) for x in np.linspace(start = 1, stop = 15, num = 3)]\n",
    "min_samples_split = [int(x) for x in np.linspace(start = 2, stop = 50, num = 7)]\n",
    "min_samples_leaf = [int(x) for x in np.linspace(start = 2, stop = 50, num = 7)]\n",
    "bootstrap = [True, False]\n",
    "param_dist = {'n_estimators': n_estimators,\n",
    "               'max_features': max_features,\n",
    "               'max_depth': max_depth,\n",
    "               'min_samples_split': min_samples_split,\n",
    "               'min_samples_leaf': min_samples_leaf,\n",
    "               'bootstrap': bootstrap}\n",
    "rs = RandomizedSearchCV(rfc_test, \n",
    "                        param_dist, \n",
    "                        n_iter = 100, \n",
    "                        cv = crossvalidation, \n",
    "                        verbose = 1, \n",
    "                        n_jobs=-1, \n",
    "                        random_state=0)\n",
    "rs.fit(x_train, y_train)\n",
    "rs.best_params_"
   ]
  },
  {
   "cell_type": "code",
   "execution_count": 22,
   "metadata": {},
   "outputs": [
    {
     "ename": "NameError",
     "evalue": "name 'rs' is not defined",
     "output_type": "error",
     "traceback": [
      "\u001b[1;31m---------------------------------------------------------------------------\u001b[0m",
      "\u001b[1;31mNameError\u001b[0m                                 Traceback (most recent call last)",
      "Cell \u001b[1;32mIn[22], line 1\u001b[0m\n\u001b[1;32m----> 1\u001b[0m rs_df \u001b[39m=\u001b[39m pd\u001b[39m.\u001b[39mDataFrame(rs\u001b[39m.\u001b[39mcv_results_)\u001b[39m.\u001b[39msort_values(\u001b[39m'\u001b[39m\u001b[39mrank_test_score\u001b[39m\u001b[39m'\u001b[39m)\u001b[39m.\u001b[39mreset_index(drop\u001b[39m=\u001b[39m\u001b[39mTrue\u001b[39;00m)\n\u001b[0;32m      2\u001b[0m rs_df \u001b[39m=\u001b[39m rs_df\u001b[39m.\u001b[39mdrop([\n\u001b[0;32m      3\u001b[0m             \u001b[39m'\u001b[39m\u001b[39mmean_fit_time\u001b[39m\u001b[39m'\u001b[39m, \n\u001b[0;32m      4\u001b[0m             \u001b[39m'\u001b[39m\u001b[39mstd_fit_time\u001b[39m\u001b[39m'\u001b[39m, \n\u001b[1;32m   (...)\u001b[0m\n\u001b[0;32m     11\u001b[0m             \u001b[39m'\u001b[39m\u001b[39mstd_test_score\u001b[39m\u001b[39m'\u001b[39m],\n\u001b[0;32m     12\u001b[0m             axis\u001b[39m=\u001b[39m\u001b[39m1\u001b[39m)\n\u001b[0;32m     13\u001b[0m rs_df\n",
      "\u001b[1;31mNameError\u001b[0m: name 'rs' is not defined"
     ]
    }
   ],
   "source": [
    "rs_df = pd.DataFrame(rs.cv_results_).sort_values('rank_test_score').reset_index(drop=True)\n",
    "rs_df = rs_df.drop([\n",
    "            'mean_fit_time', \n",
    "            'std_fit_time', \n",
    "            'mean_score_time',\n",
    "            'std_score_time', \n",
    "            'params', \n",
    "            'split0_test_score', \n",
    "            'split1_test_score', \n",
    "            'split2_test_score', \n",
    "            'std_test_score'],\n",
    "            axis=1)\n",
    "rs_df"
   ]
  },
  {
   "cell_type": "code",
   "execution_count": null,
   "metadata": {},
   "outputs": [],
   "source": [
    "fig, axs = plt.subplots(ncols=3, nrows=2)\n",
    "sns.set(style=\"whitegrid\", color_codes=True, font_scale = 2)\n",
    "fig.set_size_inches(30,25)\n",
    "sns.barplot(x='param_n_estimators', y='mean_test_score', data=rs_df, ax=axs[0,0], color='lightgrey')\n",
    "axs[0,0].set_ylim([.83,.93])\n",
    "axs[0,0].set_title(label = 'n_estimators', size=30, weight='bold')\n",
    "sns.barplot(x='param_min_samples_split', y='mean_test_score', data=rs_df, ax=axs[0,1], color='coral')\n",
    "axs[0,1].set_ylim([.85,.93])\n",
    "axs[0,1].set_title(label = 'min_samples_split', size=30, weight='bold')\n",
    "sns.barplot(x='param_min_samples_leaf', y='mean_test_score', data=rs_df, ax=axs[0,2], color='lightgreen')\n",
    "axs[0,2].set_ylim([.80,.93])\n",
    "axs[0,2].set_title(label = 'min_samples_leaf', size=30, weight='bold')\n",
    "sns.barplot(x='param_max_features', y='mean_test_score', data=rs_df, ax=axs[1,0], color='wheat')\n",
    "axs[1,0].set_ylim([.88,.92])\n",
    "axs[1,0].set_title(label = 'max_features', size=30, weight='bold')\n",
    "sns.barplot(x='param_max_depth', y='mean_test_score', data=rs_df, ax=axs[1,1], color='lightpink')\n",
    "axs[1,1].set_ylim([.80,.93])\n",
    "axs[1,1].set_title(label = 'max_depth', size=30, weight='bold')\n",
    "sns.barplot(x='param_bootstrap',y='mean_test_score', data=rs_df, ax=axs[1,2], color='skyblue')\n",
    "axs[1,2].set_ylim([.88,.92])\n",
    "axs[1,2].set_title(label = 'bootstrap', size=30, weight='bold')\n",
    "plt.show()"
   ]
  },
  {
   "cell_type": "code",
   "execution_count": 24,
   "metadata": {},
   "outputs": [
    {
     "data": {
      "text/plain": [
       "{'bootstrap': True,\n",
       " 'ccp_alpha': 0.0,\n",
       " 'class_weight': None,\n",
       " 'criterion': 'gini',\n",
       " 'max_depth': 15,\n",
       " 'max_features': 'sqrt',\n",
       " 'max_leaf_nodes': None,\n",
       " 'max_samples': None,\n",
       " 'min_impurity_decrease': 0.0,\n",
       " 'min_samples_leaf': 2,\n",
       " 'min_samples_split': 2,\n",
       " 'min_weight_fraction_leaf': 0.0,\n",
       " 'n_estimators': 800,\n",
       " 'n_jobs': None,\n",
       " 'oob_score': False,\n",
       " 'random_state': None,\n",
       " 'verbose': 0,\n",
       " 'warm_start': False}"
      ]
     },
     "execution_count": 24,
     "metadata": {},
     "output_type": "execute_result"
    }
   ],
   "source": [
    "from sklearn.ensemble import RandomForestClassifier\n",
    "rfc_test_2 = RandomForestClassifier(n_estimators = 800, min_samples_split= 2, min_samples_leaf= 2, max_features='sqrt', max_depth= 15, bootstrap= True)\n",
    "rfc_test_2.fit(x_train, y_train)\n",
    "rfc_test_2.get_params()"
   ]
  },
  {
   "cell_type": "code",
   "execution_count": 25,
   "metadata": {},
   "outputs": [
    {
     "name": "stdout",
     "output_type": "stream",
     "text": [
      "0.9578947368421052\n"
     ]
    }
   ],
   "source": [
    "y_pred = rfc_test_2.predict(x_test)\n",
    "acc = accuracy_score(y_test, y_pred)\n",
    "print(acc)"
   ]
  },
  {
   "attachments": {},
   "cell_type": "markdown",
   "metadata": {},
   "source": [
    "Поиск оптимальных гиперпараметров через GridSearchCV"
   ]
  },
  {
   "cell_type": "code",
   "execution_count": 26,
   "metadata": {},
   "outputs": [],
   "source": [
    "from sklearn.ensemble import RandomForestClassifier\n",
    "rfc_test = RandomForestClassifier()"
   ]
  },
  {
   "cell_type": "code",
   "execution_count": null,
   "metadata": {},
   "outputs": [
    {
     "name": "stdout",
     "output_type": "stream",
     "text": [
      "Fitting 10 folds for each of 2000 candidates, totalling 20000 fits\n"
     ]
    },
    {
     "data": {
      "text/plain": [
       "{'bootstrap': False,\n",
       " 'max_depth': 14,\n",
       " 'max_features': 'log2',\n",
       " 'min_samples_leaf': 2,\n",
       " 'min_samples_split': 2,\n",
       " 'n_estimators': 350}"
      ]
     },
     "execution_count": 63,
     "metadata": {},
     "output_type": "execute_result"
    }
   ],
   "source": [
    "from sklearn.model_selection import GridSearchCV\n",
    "n_estimators = [200, 350, 500, 700]\n",
    "max_features = ['sqrt', 'log2']\n",
    "max_depth = [2, 6, 10, 14, 20]\n",
    "min_samples_split = [2, 8, 14, 20, 30]\n",
    "min_samples_leaf = [2, 8, 14, 20, 30]\n",
    "bootstrap = [False, True]\n",
    "param_grid = {'n_estimators': n_estimators,\n",
    "               'max_features': max_features,\n",
    "               'max_depth': max_depth,\n",
    "               'min_samples_split': min_samples_split,\n",
    "               'min_samples_leaf': min_samples_leaf,\n",
    "               'bootstrap': bootstrap}\n",
    "gs = GridSearchCV(rfc_test, param_grid, cv = crossvalidation, verbose = 1, n_jobs=-1)\n",
    "gs.fit(x_train, y_train)\n",
    "rfc_3 = gs.best_estimator_\n",
    "gs.best_params_"
   ]
  },
  {
   "cell_type": "code",
   "execution_count": null,
   "metadata": {},
   "outputs": [
    {
     "data": {
      "text/html": [
       "<div>\n",
       "<style scoped>\n",
       "    .dataframe tbody tr th:only-of-type {\n",
       "        vertical-align: middle;\n",
       "    }\n",
       "\n",
       "    .dataframe tbody tr th {\n",
       "        vertical-align: top;\n",
       "    }\n",
       "\n",
       "    .dataframe thead th {\n",
       "        text-align: right;\n",
       "    }\n",
       "</style>\n",
       "<table border=\"1\" class=\"dataframe\">\n",
       "  <thead>\n",
       "    <tr style=\"text-align: right;\">\n",
       "      <th></th>\n",
       "      <th>param_bootstrap</th>\n",
       "      <th>param_max_depth</th>\n",
       "      <th>param_max_features</th>\n",
       "      <th>param_min_samples_leaf</th>\n",
       "      <th>param_min_samples_split</th>\n",
       "      <th>param_n_estimators</th>\n",
       "      <th>split3_test_score</th>\n",
       "      <th>split4_test_score</th>\n",
       "      <th>split5_test_score</th>\n",
       "      <th>split6_test_score</th>\n",
       "      <th>split7_test_score</th>\n",
       "      <th>split8_test_score</th>\n",
       "      <th>split9_test_score</th>\n",
       "      <th>mean_test_score</th>\n",
       "      <th>rank_test_score</th>\n",
       "    </tr>\n",
       "  </thead>\n",
       "  <tbody>\n",
       "    <tr>\n",
       "      <th>0</th>\n",
       "      <td>False</td>\n",
       "      <td>20</td>\n",
       "      <td>sqrt</td>\n",
       "      <td>2</td>\n",
       "      <td>2</td>\n",
       "      <td>700</td>\n",
       "      <td>0.98</td>\n",
       "      <td>0.98</td>\n",
       "      <td>0.91</td>\n",
       "      <td>0.96</td>\n",
       "      <td>0.97</td>\n",
       "      <td>0.96</td>\n",
       "      <td>0.96</td>\n",
       "      <td>0.96</td>\n",
       "      <td>1</td>\n",
       "    </tr>\n",
       "    <tr>\n",
       "      <th>1</th>\n",
       "      <td>False</td>\n",
       "      <td>14</td>\n",
       "      <td>log2</td>\n",
       "      <td>2</td>\n",
       "      <td>2</td>\n",
       "      <td>350</td>\n",
       "      <td>0.97</td>\n",
       "      <td>0.98</td>\n",
       "      <td>0.92</td>\n",
       "      <td>0.96</td>\n",
       "      <td>0.97</td>\n",
       "      <td>0.97</td>\n",
       "      <td>0.96</td>\n",
       "      <td>0.96</td>\n",
       "      <td>1</td>\n",
       "    </tr>\n",
       "    <tr>\n",
       "      <th>2</th>\n",
       "      <td>False</td>\n",
       "      <td>20</td>\n",
       "      <td>log2</td>\n",
       "      <td>2</td>\n",
       "      <td>2</td>\n",
       "      <td>200</td>\n",
       "      <td>0.97</td>\n",
       "      <td>0.98</td>\n",
       "      <td>0.90</td>\n",
       "      <td>0.96</td>\n",
       "      <td>0.97</td>\n",
       "      <td>0.97</td>\n",
       "      <td>0.97</td>\n",
       "      <td>0.96</td>\n",
       "      <td>3</td>\n",
       "    </tr>\n",
       "    <tr>\n",
       "      <th>3</th>\n",
       "      <td>False</td>\n",
       "      <td>14</td>\n",
       "      <td>sqrt</td>\n",
       "      <td>2</td>\n",
       "      <td>2</td>\n",
       "      <td>350</td>\n",
       "      <td>0.97</td>\n",
       "      <td>0.98</td>\n",
       "      <td>0.90</td>\n",
       "      <td>0.96</td>\n",
       "      <td>0.97</td>\n",
       "      <td>0.96</td>\n",
       "      <td>0.98</td>\n",
       "      <td>0.96</td>\n",
       "      <td>4</td>\n",
       "    </tr>\n",
       "    <tr>\n",
       "      <th>4</th>\n",
       "      <td>False</td>\n",
       "      <td>20</td>\n",
       "      <td>log2</td>\n",
       "      <td>2</td>\n",
       "      <td>8</td>\n",
       "      <td>350</td>\n",
       "      <td>0.97</td>\n",
       "      <td>0.98</td>\n",
       "      <td>0.91</td>\n",
       "      <td>0.96</td>\n",
       "      <td>0.97</td>\n",
       "      <td>0.97</td>\n",
       "      <td>0.96</td>\n",
       "      <td>0.96</td>\n",
       "      <td>4</td>\n",
       "    </tr>\n",
       "    <tr>\n",
       "      <th>...</th>\n",
       "      <td>...</td>\n",
       "      <td>...</td>\n",
       "      <td>...</td>\n",
       "      <td>...</td>\n",
       "      <td>...</td>\n",
       "      <td>...</td>\n",
       "      <td>...</td>\n",
       "      <td>...</td>\n",
       "      <td>...</td>\n",
       "      <td>...</td>\n",
       "      <td>...</td>\n",
       "      <td>...</td>\n",
       "      <td>...</td>\n",
       "      <td>...</td>\n",
       "      <td>...</td>\n",
       "    </tr>\n",
       "    <tr>\n",
       "      <th>1995</th>\n",
       "      <td>False</td>\n",
       "      <td>2</td>\n",
       "      <td>sqrt</td>\n",
       "      <td>14</td>\n",
       "      <td>14</td>\n",
       "      <td>500</td>\n",
       "      <td>0.83</td>\n",
       "      <td>0.84</td>\n",
       "      <td>0.64</td>\n",
       "      <td>0.78</td>\n",
       "      <td>0.75</td>\n",
       "      <td>0.82</td>\n",
       "      <td>0.79</td>\n",
       "      <td>0.77</td>\n",
       "      <td>1994</td>\n",
       "    </tr>\n",
       "    <tr>\n",
       "      <th>1996</th>\n",
       "      <td>False</td>\n",
       "      <td>2</td>\n",
       "      <td>log2</td>\n",
       "      <td>20</td>\n",
       "      <td>30</td>\n",
       "      <td>200</td>\n",
       "      <td>0.76</td>\n",
       "      <td>0.89</td>\n",
       "      <td>0.65</td>\n",
       "      <td>0.78</td>\n",
       "      <td>0.81</td>\n",
       "      <td>0.82</td>\n",
       "      <td>0.78</td>\n",
       "      <td>0.77</td>\n",
       "      <td>1997</td>\n",
       "    </tr>\n",
       "    <tr>\n",
       "      <th>1997</th>\n",
       "      <td>False</td>\n",
       "      <td>2</td>\n",
       "      <td>log2</td>\n",
       "      <td>20</td>\n",
       "      <td>14</td>\n",
       "      <td>350</td>\n",
       "      <td>0.83</td>\n",
       "      <td>0.85</td>\n",
       "      <td>0.65</td>\n",
       "      <td>0.77</td>\n",
       "      <td>0.75</td>\n",
       "      <td>0.80</td>\n",
       "      <td>0.79</td>\n",
       "      <td>0.77</td>\n",
       "      <td>1997</td>\n",
       "    </tr>\n",
       "    <tr>\n",
       "      <th>1998</th>\n",
       "      <td>False</td>\n",
       "      <td>2</td>\n",
       "      <td>sqrt</td>\n",
       "      <td>8</td>\n",
       "      <td>8</td>\n",
       "      <td>200</td>\n",
       "      <td>0.83</td>\n",
       "      <td>0.88</td>\n",
       "      <td>0.65</td>\n",
       "      <td>0.77</td>\n",
       "      <td>0.75</td>\n",
       "      <td>0.78</td>\n",
       "      <td>0.79</td>\n",
       "      <td>0.77</td>\n",
       "      <td>1999</td>\n",
       "    </tr>\n",
       "    <tr>\n",
       "      <th>1999</th>\n",
       "      <td>False</td>\n",
       "      <td>2</td>\n",
       "      <td>sqrt</td>\n",
       "      <td>20</td>\n",
       "      <td>20</td>\n",
       "      <td>200</td>\n",
       "      <td>0.75</td>\n",
       "      <td>0.87</td>\n",
       "      <td>0.69</td>\n",
       "      <td>0.77</td>\n",
       "      <td>0.75</td>\n",
       "      <td>0.79</td>\n",
       "      <td>0.79</td>\n",
       "      <td>0.77</td>\n",
       "      <td>1999</td>\n",
       "    </tr>\n",
       "  </tbody>\n",
       "</table>\n",
       "<p>2000 rows × 15 columns</p>\n",
       "</div>"
      ],
      "text/plain": [
       "     param_bootstrap param_max_depth param_max_features  \\\n",
       "0              False              20               sqrt   \n",
       "1              False              14               log2   \n",
       "2              False              20               log2   \n",
       "3              False              14               sqrt   \n",
       "4              False              20               log2   \n",
       "...              ...             ...                ...   \n",
       "1995           False               2               sqrt   \n",
       "1996           False               2               log2   \n",
       "1997           False               2               log2   \n",
       "1998           False               2               sqrt   \n",
       "1999           False               2               sqrt   \n",
       "\n",
       "     param_min_samples_leaf param_min_samples_split param_n_estimators  \\\n",
       "0                         2                       2                700   \n",
       "1                         2                       2                350   \n",
       "2                         2                       2                200   \n",
       "3                         2                       2                350   \n",
       "4                         2                       8                350   \n",
       "...                     ...                     ...                ...   \n",
       "1995                     14                      14                500   \n",
       "1996                     20                      30                200   \n",
       "1997                     20                      14                350   \n",
       "1998                      8                       8                200   \n",
       "1999                     20                      20                200   \n",
       "\n",
       "      split3_test_score  split4_test_score  split5_test_score  \\\n",
       "0                  0.98               0.98               0.91   \n",
       "1                  0.97               0.98               0.92   \n",
       "2                  0.97               0.98               0.90   \n",
       "3                  0.97               0.98               0.90   \n",
       "4                  0.97               0.98               0.91   \n",
       "...                 ...                ...                ...   \n",
       "1995               0.83               0.84               0.64   \n",
       "1996               0.76               0.89               0.65   \n",
       "1997               0.83               0.85               0.65   \n",
       "1998               0.83               0.88               0.65   \n",
       "1999               0.75               0.87               0.69   \n",
       "\n",
       "      split6_test_score  split7_test_score  split8_test_score  \\\n",
       "0                  0.96               0.97               0.96   \n",
       "1                  0.96               0.97               0.97   \n",
       "2                  0.96               0.97               0.97   \n",
       "3                  0.96               0.97               0.96   \n",
       "4                  0.96               0.97               0.97   \n",
       "...                 ...                ...                ...   \n",
       "1995               0.78               0.75               0.82   \n",
       "1996               0.78               0.81               0.82   \n",
       "1997               0.77               0.75               0.80   \n",
       "1998               0.77               0.75               0.78   \n",
       "1999               0.77               0.75               0.79   \n",
       "\n",
       "      split9_test_score  mean_test_score  rank_test_score  \n",
       "0                  0.96             0.96                1  \n",
       "1                  0.96             0.96                1  \n",
       "2                  0.97             0.96                3  \n",
       "3                  0.98             0.96                4  \n",
       "4                  0.96             0.96                4  \n",
       "...                 ...              ...              ...  \n",
       "1995               0.79             0.77             1994  \n",
       "1996               0.78             0.77             1997  \n",
       "1997               0.79             0.77             1997  \n",
       "1998               0.79             0.77             1999  \n",
       "1999               0.79             0.77             1999  \n",
       "\n",
       "[2000 rows x 15 columns]"
      ]
     },
     "execution_count": 72,
     "metadata": {},
     "output_type": "execute_result"
    }
   ],
   "source": [
    "rs_df = pd.DataFrame(gs.cv_results_).sort_values('rank_test_score').reset_index(drop=True)\n",
    "rs_df = rs_df.drop([\n",
    "            'mean_fit_time', \n",
    "            'std_fit_time', \n",
    "            'mean_score_time',\n",
    "            'std_score_time', \n",
    "            'params', \n",
    "            'split0_test_score', \n",
    "            'split1_test_score', \n",
    "            'split2_test_score', \n",
    "            'std_test_score'],\n",
    "            axis=1)\n",
    "rs_df"
   ]
  },
  {
   "cell_type": "code",
   "execution_count": 21,
   "metadata": {},
   "outputs": [
    {
     "data": {
      "text/plain": [
       "{'bootstrap': False,\n",
       " 'ccp_alpha': 0.0,\n",
       " 'class_weight': None,\n",
       " 'criterion': 'gini',\n",
       " 'max_depth': 14,\n",
       " 'max_features': 'log2',\n",
       " 'max_leaf_nodes': None,\n",
       " 'max_samples': None,\n",
       " 'min_impurity_decrease': 0.0,\n",
       " 'min_samples_leaf': 2,\n",
       " 'min_samples_split': 2,\n",
       " 'min_weight_fraction_leaf': 0.0,\n",
       " 'n_estimators': 350,\n",
       " 'n_jobs': None,\n",
       " 'oob_score': False,\n",
       " 'random_state': None,\n",
       " 'verbose': 0,\n",
       " 'warm_start': False}"
      ]
     },
     "execution_count": 21,
     "metadata": {},
     "output_type": "execute_result"
    }
   ],
   "source": [
    "from sklearn.ensemble import RandomForestClassifier\n",
    "rfc = RandomForestClassifier(bootstrap = False, max_depth = 14,max_features = 'log2',min_samples_leaf = 2,min_samples_split = 2,n_estimators = 350)\n",
    "rfc.fit(x_train, y_train)\n",
    "rfc.get_params()"
   ]
  },
  {
   "cell_type": "code",
   "execution_count": 22,
   "metadata": {},
   "outputs": [
    {
     "name": "stdout",
     "output_type": "stream",
     "text": [
      "0.9649122807017544\n"
     ]
    }
   ],
   "source": [
    "y_pred = rfc.predict(x_test)\n",
    "acc = accuracy_score(y_test, y_pred)\n",
    "print(acc)"
   ]
  },
  {
   "cell_type": "code",
   "execution_count": null,
   "metadata": {},
   "outputs": [],
   "source": [
    "y_test = list(y_test)"
   ]
  },
  {
   "cell_type": "code",
   "execution_count": null,
   "metadata": {},
   "outputs": [],
   "source": [
    "df_result = pd.DataFrame()\n",
    "df_result['Predict y'] = y_pred\n",
    "df_result['True y'] = y_test"
   ]
  },
  {
   "cell_type": "code",
   "execution_count": null,
   "metadata": {},
   "outputs": [
    {
     "data": {
      "text/html": [
       "<div>\n",
       "<style scoped>\n",
       "    .dataframe tbody tr th:only-of-type {\n",
       "        vertical-align: middle;\n",
       "    }\n",
       "\n",
       "    .dataframe tbody tr th {\n",
       "        vertical-align: top;\n",
       "    }\n",
       "\n",
       "    .dataframe thead th {\n",
       "        text-align: right;\n",
       "    }\n",
       "</style>\n",
       "<table border=\"1\" class=\"dataframe\">\n",
       "  <thead>\n",
       "    <tr style=\"text-align: right;\">\n",
       "      <th></th>\n",
       "      <th>Predict y</th>\n",
       "      <th>True y</th>\n",
       "    </tr>\n",
       "  </thead>\n",
       "  <tbody>\n",
       "    <tr>\n",
       "      <th>0</th>\n",
       "      <td>Poor</td>\n",
       "      <td>Poor</td>\n",
       "    </tr>\n",
       "    <tr>\n",
       "      <th>1</th>\n",
       "      <td>Very Good</td>\n",
       "      <td>Very Good</td>\n",
       "    </tr>\n",
       "    <tr>\n",
       "      <th>2</th>\n",
       "      <td>Very Poor</td>\n",
       "      <td>Very Poor</td>\n",
       "    </tr>\n",
       "    <tr>\n",
       "      <th>3</th>\n",
       "      <td>Very Good</td>\n",
       "      <td>Very Good</td>\n",
       "    </tr>\n",
       "    <tr>\n",
       "      <th>4</th>\n",
       "      <td>Poor</td>\n",
       "      <td>Poor</td>\n",
       "    </tr>\n",
       "    <tr>\n",
       "      <th>...</th>\n",
       "      <td>...</td>\n",
       "      <td>...</td>\n",
       "    </tr>\n",
       "    <tr>\n",
       "      <th>280</th>\n",
       "      <td>Poor</td>\n",
       "      <td>Very Poor</td>\n",
       "    </tr>\n",
       "    <tr>\n",
       "      <th>281</th>\n",
       "      <td>Fair</td>\n",
       "      <td>Fair</td>\n",
       "    </tr>\n",
       "    <tr>\n",
       "      <th>282</th>\n",
       "      <td>Fair</td>\n",
       "      <td>Fair</td>\n",
       "    </tr>\n",
       "    <tr>\n",
       "      <th>283</th>\n",
       "      <td>Poor</td>\n",
       "      <td>Poor</td>\n",
       "    </tr>\n",
       "    <tr>\n",
       "      <th>284</th>\n",
       "      <td>Poor</td>\n",
       "      <td>Poor</td>\n",
       "    </tr>\n",
       "  </tbody>\n",
       "</table>\n",
       "<p>285 rows × 2 columns</p>\n",
       "</div>"
      ],
      "text/plain": [
       "     Predict y     True y\n",
       "0         Poor       Poor\n",
       "1    Very Good  Very Good\n",
       "2    Very Poor  Very Poor\n",
       "3    Very Good  Very Good\n",
       "4         Poor       Poor\n",
       "..         ...        ...\n",
       "280       Poor  Very Poor\n",
       "281       Fair       Fair\n",
       "282       Fair       Fair\n",
       "283       Poor       Poor\n",
       "284       Poor       Poor\n",
       "\n",
       "[285 rows x 2 columns]"
      ]
     },
     "execution_count": 70,
     "metadata": {},
     "output_type": "execute_result"
    }
   ],
   "source": [
    "df_result"
   ]
  },
  {
   "cell_type": "code",
   "execution_count": null,
   "metadata": {},
   "outputs": [],
   "source": [
    "df_result.to_excel('Result training classification.xlsx')"
   ]
  }
 ],
 "metadata": {
  "kernelspec": {
   "display_name": "pytorch",
   "language": "python",
   "name": "python3"
  },
  "language_info": {
   "codemirror_mode": {
    "name": "ipython",
    "version": 3
   },
   "file_extension": ".py",
   "mimetype": "text/x-python",
   "name": "python",
   "nbconvert_exporter": "python",
   "pygments_lexer": "ipython3",
   "version": "3.10.9"
  },
  "orig_nbformat": 4,
  "vscode": {
   "interpreter": {
    "hash": "0acd0408d4b65c5f1fa5c0467f510ef5af1a7b7e3cd2f22fabb092c74492257e"
   }
  }
 },
 "nbformat": 4,
 "nbformat_minor": 2
}
